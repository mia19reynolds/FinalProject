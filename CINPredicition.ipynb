{
  "nbformat": 4,
  "nbformat_minor": 0,
  "metadata": {
    "colab": {
      "provenance": [],
      "collapsed_sections": [
        "Ts-RFRGWknQq"
      ],
      "gpuType": "T4",
      "mount_file_id": "1gTJ7oafoTTnBuxSbk5UeJCZjtAxXvYPQ",
      "authorship_tag": "ABX9TyNCcX3NMasxDjq57b/QJOb+",
      "include_colab_link": true
    },
    "kernelspec": {
      "name": "python3",
      "display_name": "Python 3"
    },
    "language_info": {
      "name": "python"
    },
    "accelerator": "GPU"
  },
  "cells": [
    {
      "cell_type": "markdown",
      "metadata": {
        "id": "view-in-github",
        "colab_type": "text"
      },
      "source": [
        "<a href=\"https://colab.research.google.com/github/mia19reynolds/FinalProject/blob/main/CINPredicition.ipynb\" target=\"_parent\"><img src=\"https://colab.research.google.com/assets/colab-badge.svg\" alt=\"Open In Colab\"/></a>"
      ]
    },
    {
      "cell_type": "markdown",
      "source": [
        "# Training a Model to Predict CIN"
      ],
      "metadata": {
        "id": "Y-3uiWpNpUXA"
      }
    },
    {
      "cell_type": "markdown",
      "source": [
        "## Problem formulation"
      ],
      "metadata": {
        "id": "9WEdSu_Eh4OR"
      }
    },
    {
      "cell_type": "markdown",
      "source": [
        "This portion of the project investigates the classification task of predicting whether a student is a Child in Need (CIN) from their demographics and school record attributes.\n",
        "\n",
        "The synthetic data used contain the following **features:**\n",
        "\n",
        "\n",
        "*   **Year:** Year group (e.g. Year 7, Year 8, … Year 11)\n",
        "*   **Gender:** Male / Female\n",
        "*   **Ethnicity:** e.g. “White – White British”, “Mixed – Any other Mixed background”, “Unclassified”, etc. 19 defined ethnicities\n",
        "*   **FSM:** Free School Meal eligibility (FSM_Eligible / FSM_Not_Eligible)\n",
        "*  **SEN:** Special Educational Needs status (No SEN / EHC plans / SEN)\n",
        "*   **Suspended:** Whether ever suspended (Suspended / Not Suspended)\n",
        "*   **Attendance:** Attendance rate (percentage of days present)\n",
        "*   **CIN:** Children in Need status (No CIN / CIN)\n",
        "\n",
        "**Target:**\n",
        "*   **CIN:** Children in Need status (No CIN / CIN)"
      ],
      "metadata": {
        "id": "P4DV7ql0h76u"
      }
    },
    {
      "cell_type": "markdown",
      "source": [
        "## Data provenance:\n",
        "The dataset analyzed and modeled in this notebook is entirely synthetic, produced by the data generation pipeline documented in the accompanying notebook - SyntheticStudentProfileGeneration.ipynb, that can be found in this project's [repository](https://github.com/mia19reynolds/FinalProject). That pipeline combines multiple published marginal and joint distributions from the DfE to generate realistic secondary school student profiles for Derbyshire. No individual-level real-world data is used here; all modeling and evaluation are conducted on this synthetic dataset."
      ],
      "metadata": {
        "id": "Yjt5vrXP4zke"
      }
    },
    {
      "cell_type": "markdown",
      "source": [
        "## Imports"
      ],
      "metadata": {
        "id": "Ts-RFRGWknQq"
      }
    },
    {
      "cell_type": "code",
      "source": [
        "!pip install catboost"
      ],
      "metadata": {
        "colab": {
          "base_uri": "https://localhost:8080/"
        },
        "id": "41VE_BEVwhFR",
        "outputId": "34bfb7e3-9b52-4ba0-c5f4-b5b78b31cf72"
      },
      "execution_count": 5,
      "outputs": [
        {
          "output_type": "stream",
          "name": "stdout",
          "text": [
            "Requirement already satisfied: catboost in /usr/local/lib/python3.11/dist-packages (1.2.8)\n",
            "Requirement already satisfied: graphviz in /usr/local/lib/python3.11/dist-packages (from catboost) (0.20.3)\n",
            "Requirement already satisfied: matplotlib in /usr/local/lib/python3.11/dist-packages (from catboost) (3.10.0)\n",
            "Requirement already satisfied: numpy<3.0,>=1.16.0 in /usr/local/lib/python3.11/dist-packages (from catboost) (2.0.2)\n",
            "Requirement already satisfied: pandas>=0.24 in /usr/local/lib/python3.11/dist-packages (from catboost) (2.2.2)\n",
            "Requirement already satisfied: scipy in /usr/local/lib/python3.11/dist-packages (from catboost) (1.15.3)\n",
            "Requirement already satisfied: plotly in /usr/local/lib/python3.11/dist-packages (from catboost) (5.24.1)\n",
            "Requirement already satisfied: six in /usr/local/lib/python3.11/dist-packages (from catboost) (1.17.0)\n",
            "Requirement already satisfied: python-dateutil>=2.8.2 in /usr/local/lib/python3.11/dist-packages (from pandas>=0.24->catboost) (2.9.0.post0)\n",
            "Requirement already satisfied: pytz>=2020.1 in /usr/local/lib/python3.11/dist-packages (from pandas>=0.24->catboost) (2025.2)\n",
            "Requirement already satisfied: tzdata>=2022.7 in /usr/local/lib/python3.11/dist-packages (from pandas>=0.24->catboost) (2025.2)\n",
            "Requirement already satisfied: contourpy>=1.0.1 in /usr/local/lib/python3.11/dist-packages (from matplotlib->catboost) (1.3.2)\n",
            "Requirement already satisfied: cycler>=0.10 in /usr/local/lib/python3.11/dist-packages (from matplotlib->catboost) (0.12.1)\n",
            "Requirement already satisfied: fonttools>=4.22.0 in /usr/local/lib/python3.11/dist-packages (from matplotlib->catboost) (4.58.0)\n",
            "Requirement already satisfied: kiwisolver>=1.3.1 in /usr/local/lib/python3.11/dist-packages (from matplotlib->catboost) (1.4.8)\n",
            "Requirement already satisfied: packaging>=20.0 in /usr/local/lib/python3.11/dist-packages (from matplotlib->catboost) (24.2)\n",
            "Requirement already satisfied: pillow>=8 in /usr/local/lib/python3.11/dist-packages (from matplotlib->catboost) (11.2.1)\n",
            "Requirement already satisfied: pyparsing>=2.3.1 in /usr/local/lib/python3.11/dist-packages (from matplotlib->catboost) (3.2.3)\n",
            "Requirement already satisfied: tenacity>=6.2.0 in /usr/local/lib/python3.11/dist-packages (from plotly->catboost) (9.1.2)\n"
          ]
        }
      ]
    },
    {
      "cell_type": "code",
      "source": [
        "import pandas as pd\n",
        "import random\n",
        "import numpy as np\n",
        "\n",
        "# Visualization\n",
        "import matplotlib.pyplot as plt\n",
        "import seaborn as sns\n",
        "\n",
        "# scikit-learn: model selection, preprocessing, pipelines\n",
        "from sklearn.model_selection import (\n",
        "    train_test_split,\n",
        "    cross_val_score,\n",
        "    RandomizedSearchCV\n",
        ")\n",
        "from sklearn.pipeline import Pipeline\n",
        "from sklearn.compose import ColumnTransformer\n",
        "from sklearn.preprocessing import OneHotEncoder, StandardScaler\n",
        "\n",
        "# scikit-learn: classifiers\n",
        "from sklearn.ensemble import RandomForestClassifier\n",
        "from sklearn.dummy import DummyClassifier\n",
        "\n",
        "# Boosting libraries\n",
        "from lightgbm import LGBMClassifier\n",
        "from xgboost import XGBClassifier\n",
        "from catboost import CatBoostClassifier\n",
        "\n",
        "# scikit-learn: metrics\n",
        "from sklearn.metrics import (\n",
        "    accuracy_score,\n",
        "    balanced_accuracy_score,\n",
        "    precision_score,\n",
        "    recall_score,\n",
        "    f1_score,\n",
        "    roc_auc_score,\n",
        "    precision_recall_curve,\n",
        "    auc,\n",
        "    confusion_matrix,\n",
        "    classification_report\n",
        ")\n",
        "\n",
        "# Initialize random seed\n",
        "random.seed(42)\n",
        "np.random.seed(42)"
      ],
      "metadata": {
        "id": "GfKFwpCMkscN"
      },
      "execution_count": 6,
      "outputs": []
    },
    {
      "cell_type": "markdown",
      "source": [
        "## Load data"
      ],
      "metadata": {
        "id": "X-VlJ_G_n7K8"
      }
    },
    {
      "cell_type": "code",
      "source": [
        "student_synth_df = pd.read_csv('/content/drive/MyDrive/CINStudentProfiles/student_profiles.csv')"
      ],
      "metadata": {
        "id": "-oWZ6ALHn9Bk"
      },
      "execution_count": 7,
      "outputs": []
    },
    {
      "cell_type": "markdown",
      "source": [
        "## Establishing a Baseline"
      ],
      "metadata": {
        "id": "EnzGOfh4kuDB"
      }
    },
    {
      "cell_type": "markdown",
      "source": [
        "Here, a baseline model is established using scikit-learn's `DummyClassifier` to establish a simple perfomance floor."
      ],
      "metadata": {
        "id": "A01geKFLk2Kw"
      }
    },
    {
      "cell_type": "code",
      "source": [
        "# Features and target\n",
        "X = student_synth_df.drop(columns=['CIN'])\n",
        "y = student_synth_df['CIN']\n",
        "\n",
        "# Stratified random guessing baseline\n",
        "dummy = DummyClassifier(strategy=\"stratified\", random_state=42)\n",
        "scores = cross_val_score(dummy, X, y, cv=5, scoring=\"accuracy\")\n",
        "\n",
        "print(f\"DummyClassifier: {scores.mean():.3f}\")"
      ],
      "metadata": {
        "colab": {
          "base_uri": "https://localhost:8080/"
        },
        "id": "nt0UQv9Fkxor",
        "outputId": "3781fe8b-f8ac-4a27-e8db-89ddf65bc6a1"
      },
      "execution_count": 8,
      "outputs": [
        {
          "output_type": "stream",
          "name": "stdout",
          "text": [
            "DummyClassifier: 0.934\n"
          ]
        }
      ]
    },
    {
      "cell_type": "code",
      "source": [
        "dummy.fit(X, y)\n",
        "y_pred = dummy.predict(X)\n",
        "y_proba = dummy.predict_proba(X)[:,1]  # for ROC-AUC\n",
        "\n",
        "print(\"Accuracy: \", (y_pred == y).mean())\n",
        "print(\"Balanced accuracy: \", balanced_accuracy_score(y, y_pred))\n",
        "print(\"ROC-AUC: \", roc_auc_score(y.map({'No CIN':0,'CIN':1}), y_proba))\n",
        "print(\"Confusion matrix:\\n\", confusion_matrix(y, y_pred))\n"
      ],
      "metadata": {
        "colab": {
          "base_uri": "https://localhost:8080/"
        },
        "id": "L9bskYcPowFf",
        "outputId": "1239f543-83b3-41b9-9527-ea85114844cf"
      },
      "execution_count": 9,
      "outputs": [
        {
          "output_type": "stream",
          "name": "stdout",
          "text": [
            "Accuracy:  0.9332268834373639\n",
            "Balanced accuracy:  0.5075277493660826\n",
            "ROC-AUC:  0.4924722506339174\n",
            "Confusion matrix:\n",
            " [[   72  1373]\n",
            " [ 1387 38502]]\n"
          ]
        }
      ]
    },
    {
      "cell_type": "markdown",
      "source": [
        "### Evaluation of Baseline Model"
      ],
      "metadata": {
        "id": "GWxd6EGLpArz"
      }
    },
    {
      "cell_type": "markdown",
      "source": [
        "Running our stratified `DummyClassifier`, we observe:\n",
        "\n",
        "- **Accuracy**: 0.937  \n",
        "  This high value largely reflects class imbalance (most students are “No CIN”).  \n",
        "- **Balanced Accuracy**: 0.4999  \n",
        "  Indicates the model is no better than random when accounting for both classes equally.  \n",
        "- **ROC-AUC**: 0.50\n",
        "  Confirms that our dummy model has zero discriminative power.  "
      ],
      "metadata": {
        "id": "nVvvu6bQpCK_"
      }
    },
    {
      "cell_type": "markdown",
      "source": [
        "## Investigate different models"
      ],
      "metadata": {
        "id": "tOMvaQH2MSRD"
      }
    },
    {
      "cell_type": "markdown",
      "source": [
        "### Prepare Data"
      ],
      "metadata": {
        "id": "9dNpVra7q9W5"
      }
    },
    {
      "cell_type": "markdown",
      "source": [
        "The data is prepared and split into test/train sets of 80:20 proportion. The attributes are put into groups of categorical or numeric."
      ],
      "metadata": {
        "id": "S3ljQcylHE_w"
      }
    },
    {
      "cell_type": "code",
      "source": [
        "df = student_synth_df.copy()\n",
        "df['Attendance'] = pd.to_numeric(df['Attendance'], errors='coerce').fillna(0)\n",
        "\n",
        "# X/y split\n",
        "X = df.drop(columns=['CIN'])\n",
        "y = df['CIN'].map({'No CIN': 0, 'CIN': 1})\n",
        "\n",
        "X_train, X_test, y_train, y_test = train_test_split(\n",
        "    X, y, test_size=0.2, stratify=y, random_state=42\n",
        ")\n",
        "\n",
        "# Categorical vs numeric\n",
        "cat_cols = ['Year', 'Gender', 'Ethnicity', 'FSM', 'SEN']\n",
        "num_cols = ['Attendance']\n",
        "\n",
        "# Encoders/scaler on training set\n",
        "ohe = OneHotEncoder(handle_unknown='ignore', sparse_output=False)\n",
        "ohe.fit(X_train[cat_cols])\n",
        "\n",
        "scaler = StandardScaler()\n",
        "scaler.fit(X_train[num_cols])\n",
        "\n",
        "# Transform train and test\n",
        "X_train_enc = pd.DataFrame(ohe.transform(X_train[cat_cols]),\n",
        "                           columns=ohe.get_feature_names_out(cat_cols),\n",
        "                           index=X_train.index)\n",
        "X_test_enc  = pd.DataFrame(ohe.transform(X_test[cat_cols]),\n",
        "                           columns=ohe.get_feature_names_out(cat_cols),\n",
        "                           index=X_test.index)\n",
        "\n",
        "X_train_num = pd.DataFrame(scaler.transform(X_train[num_cols]),\n",
        "                           columns=num_cols,\n",
        "                           index=X_train.index)\n",
        "X_test_num  = pd.DataFrame(scaler.transform(X_test[num_cols]),\n",
        "                           columns=num_cols,\n",
        "                           index=X_test.index)\n",
        "\n",
        "# Final arrays\n",
        "X_train_pre = np.hstack([X_train_enc, X_train_num])\n",
        "X_test_pre  = np.hstack([X_test_enc,  X_test_num])"
      ],
      "metadata": {
        "id": "WyGcfuyVuyGn"
      },
      "execution_count": 10,
      "outputs": []
    },
    {
      "cell_type": "code",
      "source": [
        "# Initialize an empty results DataFrame\n",
        "results_df = pd.DataFrame(columns=[\n",
        "    'Model', 'Accuracy', 'Precision', 'Recall', 'F1', 'ROC-AUC', 'PR-AUC'\n",
        "])\n",
        "\n",
        "\n",
        "# Function to fit and evuate models\n",
        "def eval_model(name, model):\n",
        "    # Fit and predict\n",
        "    model.fit(X_train_pre, y_train)\n",
        "    y_pred = model.predict(X_test_pre)\n",
        "    y_proba = model.predict_proba(X_test_pre)[:, 1]\n",
        "\n",
        "    # Compute metrics\n",
        "    acc     = accuracy_score(y_test, y_pred)\n",
        "    prec    = precision_score(y_test, y_pred)\n",
        "    rec     = recall_score(y_test, y_pred)\n",
        "    f1      = f1_score(y_test, y_pred)\n",
        "    roc     = roc_auc_score(y_test, y_proba)\n",
        "    pr, rc, _ = precision_recall_curve(y_test, y_proba)\n",
        "    pr_auc  = auc(rc, pr)\n",
        "\n",
        "    # Append to results DataFrame\n",
        "    global results_df\n",
        "    results_df.loc[len(results_df)] = [\n",
        "        name, acc, prec, rec, f1, roc, pr_auc\n",
        "    ]\n",
        "\n",
        "    # Display\n",
        "    display(results_df.sort_values('ROC-AUC', ascending=False))"
      ],
      "metadata": {
        "id": "GdWVswkHq47o"
      },
      "execution_count": 11,
      "outputs": []
    },
    {
      "cell_type": "markdown",
      "source": [
        "### Random Forest"
      ],
      "metadata": {
        "id": "aOsVTVp9rXvC"
      }
    },
    {
      "cell_type": "code",
      "source": [
        "eval_model(\n",
        "    'RandomForest',\n",
        "    RandomForestClassifier(n_estimators=200, class_weight='balanced', random_state=42)\n",
        ")"
      ],
      "metadata": {
        "colab": {
          "base_uri": "https://localhost:8080/",
          "height": 142
        },
        "id": "Jkqyex_Vsq9_",
        "outputId": "edbf2c8e-b130-4297-edf3-a9f6b6f14cc1"
      },
      "execution_count": 12,
      "outputs": [
        {
          "output_type": "display_data",
          "data": {
            "text/plain": [
              "          Model  Accuracy  Precision    Recall        F1   ROC-AUC    PR-AUC\n",
              "0  RandomForest  0.999516   0.996516  0.989619  0.993056  0.999997  0.999916"
            ],
            "text/html": [
              "\n",
              "  <div id=\"df-4b242491-6f73-41d0-8066-cdff12e34cdc\" class=\"colab-df-container\">\n",
              "    <div>\n",
              "<style scoped>\n",
              "    .dataframe tbody tr th:only-of-type {\n",
              "        vertical-align: middle;\n",
              "    }\n",
              "\n",
              "    .dataframe tbody tr th {\n",
              "        vertical-align: top;\n",
              "    }\n",
              "\n",
              "    .dataframe thead th {\n",
              "        text-align: right;\n",
              "    }\n",
              "</style>\n",
              "<table border=\"1\" class=\"dataframe\">\n",
              "  <thead>\n",
              "    <tr style=\"text-align: right;\">\n",
              "      <th></th>\n",
              "      <th>Model</th>\n",
              "      <th>Accuracy</th>\n",
              "      <th>Precision</th>\n",
              "      <th>Recall</th>\n",
              "      <th>F1</th>\n",
              "      <th>ROC-AUC</th>\n",
              "      <th>PR-AUC</th>\n",
              "    </tr>\n",
              "  </thead>\n",
              "  <tbody>\n",
              "    <tr>\n",
              "      <th>0</th>\n",
              "      <td>RandomForest</td>\n",
              "      <td>0.999516</td>\n",
              "      <td>0.996516</td>\n",
              "      <td>0.989619</td>\n",
              "      <td>0.993056</td>\n",
              "      <td>0.999997</td>\n",
              "      <td>0.999916</td>\n",
              "    </tr>\n",
              "  </tbody>\n",
              "</table>\n",
              "</div>\n",
              "    <div class=\"colab-df-buttons\">\n",
              "\n",
              "  <div class=\"colab-df-container\">\n",
              "    <button class=\"colab-df-convert\" onclick=\"convertToInteractive('df-4b242491-6f73-41d0-8066-cdff12e34cdc')\"\n",
              "            title=\"Convert this dataframe to an interactive table.\"\n",
              "            style=\"display:none;\">\n",
              "\n",
              "  <svg xmlns=\"http://www.w3.org/2000/svg\" height=\"24px\" viewBox=\"0 -960 960 960\">\n",
              "    <path d=\"M120-120v-720h720v720H120Zm60-500h600v-160H180v160Zm220 220h160v-160H400v160Zm0 220h160v-160H400v160ZM180-400h160v-160H180v160Zm440 0h160v-160H620v160ZM180-180h160v-160H180v160Zm440 0h160v-160H620v160Z\"/>\n",
              "  </svg>\n",
              "    </button>\n",
              "\n",
              "  <style>\n",
              "    .colab-df-container {\n",
              "      display:flex;\n",
              "      gap: 12px;\n",
              "    }\n",
              "\n",
              "    .colab-df-convert {\n",
              "      background-color: #E8F0FE;\n",
              "      border: none;\n",
              "      border-radius: 50%;\n",
              "      cursor: pointer;\n",
              "      display: none;\n",
              "      fill: #1967D2;\n",
              "      height: 32px;\n",
              "      padding: 0 0 0 0;\n",
              "      width: 32px;\n",
              "    }\n",
              "\n",
              "    .colab-df-convert:hover {\n",
              "      background-color: #E2EBFA;\n",
              "      box-shadow: 0px 1px 2px rgba(60, 64, 67, 0.3), 0px 1px 3px 1px rgba(60, 64, 67, 0.15);\n",
              "      fill: #174EA6;\n",
              "    }\n",
              "\n",
              "    .colab-df-buttons div {\n",
              "      margin-bottom: 4px;\n",
              "    }\n",
              "\n",
              "    [theme=dark] .colab-df-convert {\n",
              "      background-color: #3B4455;\n",
              "      fill: #D2E3FC;\n",
              "    }\n",
              "\n",
              "    [theme=dark] .colab-df-convert:hover {\n",
              "      background-color: #434B5C;\n",
              "      box-shadow: 0px 1px 3px 1px rgba(0, 0, 0, 0.15);\n",
              "      filter: drop-shadow(0px 1px 2px rgba(0, 0, 0, 0.3));\n",
              "      fill: #FFFFFF;\n",
              "    }\n",
              "  </style>\n",
              "\n",
              "    <script>\n",
              "      const buttonEl =\n",
              "        document.querySelector('#df-4b242491-6f73-41d0-8066-cdff12e34cdc button.colab-df-convert');\n",
              "      buttonEl.style.display =\n",
              "        google.colab.kernel.accessAllowed ? 'block' : 'none';\n",
              "\n",
              "      async function convertToInteractive(key) {\n",
              "        const element = document.querySelector('#df-4b242491-6f73-41d0-8066-cdff12e34cdc');\n",
              "        const dataTable =\n",
              "          await google.colab.kernel.invokeFunction('convertToInteractive',\n",
              "                                                    [key], {});\n",
              "        if (!dataTable) return;\n",
              "\n",
              "        const docLinkHtml = 'Like what you see? Visit the ' +\n",
              "          '<a target=\"_blank\" href=https://colab.research.google.com/notebooks/data_table.ipynb>data table notebook</a>'\n",
              "          + ' to learn more about interactive tables.';\n",
              "        element.innerHTML = '';\n",
              "        dataTable['output_type'] = 'display_data';\n",
              "        await google.colab.output.renderOutput(dataTable, element);\n",
              "        const docLink = document.createElement('div');\n",
              "        docLink.innerHTML = docLinkHtml;\n",
              "        element.appendChild(docLink);\n",
              "      }\n",
              "    </script>\n",
              "  </div>\n",
              "\n",
              "\n",
              "    </div>\n",
              "  </div>\n"
            ],
            "application/vnd.google.colaboratory.intrinsic+json": {
              "type": "dataframe",
              "summary": "{\n  \"name\": \")\",\n  \"rows\": 1,\n  \"fields\": [\n    {\n      \"column\": \"Model\",\n      \"properties\": {\n        \"dtype\": \"string\",\n        \"num_unique_values\": 1,\n        \"samples\": [\n          \"RandomForest\"\n        ],\n        \"semantic_type\": \"\",\n        \"description\": \"\"\n      }\n    },\n    {\n      \"column\": \"Accuracy\",\n      \"properties\": {\n        \"dtype\": \"number\",\n        \"std\": null,\n        \"min\": 0.9995161485423975,\n        \"max\": 0.9995161485423975,\n        \"num_unique_values\": 1,\n        \"samples\": [\n          0.9995161485423975\n        ],\n        \"semantic_type\": \"\",\n        \"description\": \"\"\n      }\n    },\n    {\n      \"column\": \"Precision\",\n      \"properties\": {\n        \"dtype\": \"number\",\n        \"std\": null,\n        \"min\": 0.9965156794425087,\n        \"max\": 0.9965156794425087,\n        \"num_unique_values\": 1,\n        \"samples\": [\n          0.9965156794425087\n        ],\n        \"semantic_type\": \"\",\n        \"description\": \"\"\n      }\n    },\n    {\n      \"column\": \"Recall\",\n      \"properties\": {\n        \"dtype\": \"number\",\n        \"std\": null,\n        \"min\": 0.9896193771626297,\n        \"max\": 0.9896193771626297,\n        \"num_unique_values\": 1,\n        \"samples\": [\n          0.9896193771626297\n        ],\n        \"semantic_type\": \"\",\n        \"description\": \"\"\n      }\n    },\n    {\n      \"column\": \"F1\",\n      \"properties\": {\n        \"dtype\": \"number\",\n        \"std\": null,\n        \"min\": 0.9930555555555556,\n        \"max\": 0.9930555555555556,\n        \"num_unique_values\": 1,\n        \"samples\": [\n          0.9930555555555556\n        ],\n        \"semantic_type\": \"\",\n        \"description\": \"\"\n      }\n    },\n    {\n      \"column\": \"ROC-AUC\",\n      \"properties\": {\n        \"dtype\": \"number\",\n        \"std\": null,\n        \"min\": 0.9999969639692545,\n        \"max\": 0.9999969639692545,\n        \"num_unique_values\": 1,\n        \"samples\": [\n          0.9999969639692545\n        ],\n        \"semantic_type\": \"\",\n        \"description\": \"\"\n      }\n    },\n    {\n      \"column\": \"PR-AUC\",\n      \"properties\": {\n        \"dtype\": \"number\",\n        \"std\": null,\n        \"min\": 0.9999161619229372,\n        \"max\": 0.9999161619229372,\n        \"num_unique_values\": 1,\n        \"samples\": [\n          0.9999161619229372\n        ],\n        \"semantic_type\": \"\",\n        \"description\": \"\"\n      }\n    }\n  ]\n}"
            }
          },
          "metadata": {}
        }
      ]
    },
    {
      "cell_type": "markdown",
      "source": [
        "### LightGBM"
      ],
      "metadata": {
        "id": "pyED-ocrsir_"
      }
    },
    {
      "cell_type": "code",
      "source": [
        "eval_model(\n",
        "    'LightGBM',\n",
        "    LGBMClassifier(n_estimators=300, is_unbalance=True, random_state=42, verbose=-1,log_level='error' )\n",
        ")"
      ],
      "metadata": {
        "colab": {
          "base_uri": "https://localhost:8080/",
          "height": 314
        },
        "id": "aHjXJdSsraFg",
        "outputId": "6b205ce4-b526-4dd3-89cf-92a37b8e8190"
      },
      "execution_count": 13,
      "outputs": [
        {
          "output_type": "stream",
          "name": "stderr",
          "text": [
            "/usr/local/lib/python3.11/dist-packages/sklearn/utils/deprecation.py:151: FutureWarning: 'force_all_finite' was renamed to 'ensure_all_finite' in 1.6 and will be removed in 1.8.\n",
            "  warnings.warn(\n",
            "/usr/local/lib/python3.11/dist-packages/sklearn/utils/deprecation.py:151: FutureWarning: 'force_all_finite' was renamed to 'ensure_all_finite' in 1.6 and will be removed in 1.8.\n",
            "  warnings.warn(\n",
            "/usr/local/lib/python3.11/dist-packages/sklearn/utils/deprecation.py:151: FutureWarning: 'force_all_finite' was renamed to 'ensure_all_finite' in 1.6 and will be removed in 1.8.\n",
            "  warnings.warn(\n"
          ]
        },
        {
          "output_type": "display_data",
          "data": {
            "text/plain": [
              "          Model  Accuracy  Precision    Recall        F1   ROC-AUC    PR-AUC\n",
              "0  RandomForest  0.999516   0.996516  0.989619  0.993056  0.999997  0.999916\n",
              "1      LightGBM  0.999395   0.989655  0.993080  0.991364  0.999993  0.999811"
            ],
            "text/html": [
              "\n",
              "  <div id=\"df-3ae8fa44-52d0-4365-a5c7-47d00c76606d\" class=\"colab-df-container\">\n",
              "    <div>\n",
              "<style scoped>\n",
              "    .dataframe tbody tr th:only-of-type {\n",
              "        vertical-align: middle;\n",
              "    }\n",
              "\n",
              "    .dataframe tbody tr th {\n",
              "        vertical-align: top;\n",
              "    }\n",
              "\n",
              "    .dataframe thead th {\n",
              "        text-align: right;\n",
              "    }\n",
              "</style>\n",
              "<table border=\"1\" class=\"dataframe\">\n",
              "  <thead>\n",
              "    <tr style=\"text-align: right;\">\n",
              "      <th></th>\n",
              "      <th>Model</th>\n",
              "      <th>Accuracy</th>\n",
              "      <th>Precision</th>\n",
              "      <th>Recall</th>\n",
              "      <th>F1</th>\n",
              "      <th>ROC-AUC</th>\n",
              "      <th>PR-AUC</th>\n",
              "    </tr>\n",
              "  </thead>\n",
              "  <tbody>\n",
              "    <tr>\n",
              "      <th>0</th>\n",
              "      <td>RandomForest</td>\n",
              "      <td>0.999516</td>\n",
              "      <td>0.996516</td>\n",
              "      <td>0.989619</td>\n",
              "      <td>0.993056</td>\n",
              "      <td>0.999997</td>\n",
              "      <td>0.999916</td>\n",
              "    </tr>\n",
              "    <tr>\n",
              "      <th>1</th>\n",
              "      <td>LightGBM</td>\n",
              "      <td>0.999395</td>\n",
              "      <td>0.989655</td>\n",
              "      <td>0.993080</td>\n",
              "      <td>0.991364</td>\n",
              "      <td>0.999993</td>\n",
              "      <td>0.999811</td>\n",
              "    </tr>\n",
              "  </tbody>\n",
              "</table>\n",
              "</div>\n",
              "    <div class=\"colab-df-buttons\">\n",
              "\n",
              "  <div class=\"colab-df-container\">\n",
              "    <button class=\"colab-df-convert\" onclick=\"convertToInteractive('df-3ae8fa44-52d0-4365-a5c7-47d00c76606d')\"\n",
              "            title=\"Convert this dataframe to an interactive table.\"\n",
              "            style=\"display:none;\">\n",
              "\n",
              "  <svg xmlns=\"http://www.w3.org/2000/svg\" height=\"24px\" viewBox=\"0 -960 960 960\">\n",
              "    <path d=\"M120-120v-720h720v720H120Zm60-500h600v-160H180v160Zm220 220h160v-160H400v160Zm0 220h160v-160H400v160ZM180-400h160v-160H180v160Zm440 0h160v-160H620v160ZM180-180h160v-160H180v160Zm440 0h160v-160H620v160Z\"/>\n",
              "  </svg>\n",
              "    </button>\n",
              "\n",
              "  <style>\n",
              "    .colab-df-container {\n",
              "      display:flex;\n",
              "      gap: 12px;\n",
              "    }\n",
              "\n",
              "    .colab-df-convert {\n",
              "      background-color: #E8F0FE;\n",
              "      border: none;\n",
              "      border-radius: 50%;\n",
              "      cursor: pointer;\n",
              "      display: none;\n",
              "      fill: #1967D2;\n",
              "      height: 32px;\n",
              "      padding: 0 0 0 0;\n",
              "      width: 32px;\n",
              "    }\n",
              "\n",
              "    .colab-df-convert:hover {\n",
              "      background-color: #E2EBFA;\n",
              "      box-shadow: 0px 1px 2px rgba(60, 64, 67, 0.3), 0px 1px 3px 1px rgba(60, 64, 67, 0.15);\n",
              "      fill: #174EA6;\n",
              "    }\n",
              "\n",
              "    .colab-df-buttons div {\n",
              "      margin-bottom: 4px;\n",
              "    }\n",
              "\n",
              "    [theme=dark] .colab-df-convert {\n",
              "      background-color: #3B4455;\n",
              "      fill: #D2E3FC;\n",
              "    }\n",
              "\n",
              "    [theme=dark] .colab-df-convert:hover {\n",
              "      background-color: #434B5C;\n",
              "      box-shadow: 0px 1px 3px 1px rgba(0, 0, 0, 0.15);\n",
              "      filter: drop-shadow(0px 1px 2px rgba(0, 0, 0, 0.3));\n",
              "      fill: #FFFFFF;\n",
              "    }\n",
              "  </style>\n",
              "\n",
              "    <script>\n",
              "      const buttonEl =\n",
              "        document.querySelector('#df-3ae8fa44-52d0-4365-a5c7-47d00c76606d button.colab-df-convert');\n",
              "      buttonEl.style.display =\n",
              "        google.colab.kernel.accessAllowed ? 'block' : 'none';\n",
              "\n",
              "      async function convertToInteractive(key) {\n",
              "        const element = document.querySelector('#df-3ae8fa44-52d0-4365-a5c7-47d00c76606d');\n",
              "        const dataTable =\n",
              "          await google.colab.kernel.invokeFunction('convertToInteractive',\n",
              "                                                    [key], {});\n",
              "        if (!dataTable) return;\n",
              "\n",
              "        const docLinkHtml = 'Like what you see? Visit the ' +\n",
              "          '<a target=\"_blank\" href=https://colab.research.google.com/notebooks/data_table.ipynb>data table notebook</a>'\n",
              "          + ' to learn more about interactive tables.';\n",
              "        element.innerHTML = '';\n",
              "        dataTable['output_type'] = 'display_data';\n",
              "        await google.colab.output.renderOutput(dataTable, element);\n",
              "        const docLink = document.createElement('div');\n",
              "        docLink.innerHTML = docLinkHtml;\n",
              "        element.appendChild(docLink);\n",
              "      }\n",
              "    </script>\n",
              "  </div>\n",
              "\n",
              "\n",
              "    <div id=\"df-249a33cc-0797-4388-884a-098d4353857f\">\n",
              "      <button class=\"colab-df-quickchart\" onclick=\"quickchart('df-249a33cc-0797-4388-884a-098d4353857f')\"\n",
              "                title=\"Suggest charts\"\n",
              "                style=\"display:none;\">\n",
              "\n",
              "<svg xmlns=\"http://www.w3.org/2000/svg\" height=\"24px\"viewBox=\"0 0 24 24\"\n",
              "     width=\"24px\">\n",
              "    <g>\n",
              "        <path d=\"M19 3H5c-1.1 0-2 .9-2 2v14c0 1.1.9 2 2 2h14c1.1 0 2-.9 2-2V5c0-1.1-.9-2-2-2zM9 17H7v-7h2v7zm4 0h-2V7h2v10zm4 0h-2v-4h2v4z\"/>\n",
              "    </g>\n",
              "</svg>\n",
              "      </button>\n",
              "\n",
              "<style>\n",
              "  .colab-df-quickchart {\n",
              "      --bg-color: #E8F0FE;\n",
              "      --fill-color: #1967D2;\n",
              "      --hover-bg-color: #E2EBFA;\n",
              "      --hover-fill-color: #174EA6;\n",
              "      --disabled-fill-color: #AAA;\n",
              "      --disabled-bg-color: #DDD;\n",
              "  }\n",
              "\n",
              "  [theme=dark] .colab-df-quickchart {\n",
              "      --bg-color: #3B4455;\n",
              "      --fill-color: #D2E3FC;\n",
              "      --hover-bg-color: #434B5C;\n",
              "      --hover-fill-color: #FFFFFF;\n",
              "      --disabled-bg-color: #3B4455;\n",
              "      --disabled-fill-color: #666;\n",
              "  }\n",
              "\n",
              "  .colab-df-quickchart {\n",
              "    background-color: var(--bg-color);\n",
              "    border: none;\n",
              "    border-radius: 50%;\n",
              "    cursor: pointer;\n",
              "    display: none;\n",
              "    fill: var(--fill-color);\n",
              "    height: 32px;\n",
              "    padding: 0;\n",
              "    width: 32px;\n",
              "  }\n",
              "\n",
              "  .colab-df-quickchart:hover {\n",
              "    background-color: var(--hover-bg-color);\n",
              "    box-shadow: 0 1px 2px rgba(60, 64, 67, 0.3), 0 1px 3px 1px rgba(60, 64, 67, 0.15);\n",
              "    fill: var(--button-hover-fill-color);\n",
              "  }\n",
              "\n",
              "  .colab-df-quickchart-complete:disabled,\n",
              "  .colab-df-quickchart-complete:disabled:hover {\n",
              "    background-color: var(--disabled-bg-color);\n",
              "    fill: var(--disabled-fill-color);\n",
              "    box-shadow: none;\n",
              "  }\n",
              "\n",
              "  .colab-df-spinner {\n",
              "    border: 2px solid var(--fill-color);\n",
              "    border-color: transparent;\n",
              "    border-bottom-color: var(--fill-color);\n",
              "    animation:\n",
              "      spin 1s steps(1) infinite;\n",
              "  }\n",
              "\n",
              "  @keyframes spin {\n",
              "    0% {\n",
              "      border-color: transparent;\n",
              "      border-bottom-color: var(--fill-color);\n",
              "      border-left-color: var(--fill-color);\n",
              "    }\n",
              "    20% {\n",
              "      border-color: transparent;\n",
              "      border-left-color: var(--fill-color);\n",
              "      border-top-color: var(--fill-color);\n",
              "    }\n",
              "    30% {\n",
              "      border-color: transparent;\n",
              "      border-left-color: var(--fill-color);\n",
              "      border-top-color: var(--fill-color);\n",
              "      border-right-color: var(--fill-color);\n",
              "    }\n",
              "    40% {\n",
              "      border-color: transparent;\n",
              "      border-right-color: var(--fill-color);\n",
              "      border-top-color: var(--fill-color);\n",
              "    }\n",
              "    60% {\n",
              "      border-color: transparent;\n",
              "      border-right-color: var(--fill-color);\n",
              "    }\n",
              "    80% {\n",
              "      border-color: transparent;\n",
              "      border-right-color: var(--fill-color);\n",
              "      border-bottom-color: var(--fill-color);\n",
              "    }\n",
              "    90% {\n",
              "      border-color: transparent;\n",
              "      border-bottom-color: var(--fill-color);\n",
              "    }\n",
              "  }\n",
              "</style>\n",
              "\n",
              "      <script>\n",
              "        async function quickchart(key) {\n",
              "          const quickchartButtonEl =\n",
              "            document.querySelector('#' + key + ' button');\n",
              "          quickchartButtonEl.disabled = true;  // To prevent multiple clicks.\n",
              "          quickchartButtonEl.classList.add('colab-df-spinner');\n",
              "          try {\n",
              "            const charts = await google.colab.kernel.invokeFunction(\n",
              "                'suggestCharts', [key], {});\n",
              "          } catch (error) {\n",
              "            console.error('Error during call to suggestCharts:', error);\n",
              "          }\n",
              "          quickchartButtonEl.classList.remove('colab-df-spinner');\n",
              "          quickchartButtonEl.classList.add('colab-df-quickchart-complete');\n",
              "        }\n",
              "        (() => {\n",
              "          let quickchartButtonEl =\n",
              "            document.querySelector('#df-249a33cc-0797-4388-884a-098d4353857f button');\n",
              "          quickchartButtonEl.style.display =\n",
              "            google.colab.kernel.accessAllowed ? 'block' : 'none';\n",
              "        })();\n",
              "      </script>\n",
              "    </div>\n",
              "\n",
              "    </div>\n",
              "  </div>\n"
            ],
            "application/vnd.google.colaboratory.intrinsic+json": {
              "type": "dataframe",
              "summary": "{\n  \"name\": \")\",\n  \"rows\": 2,\n  \"fields\": [\n    {\n      \"column\": \"Model\",\n      \"properties\": {\n        \"dtype\": \"string\",\n        \"num_unique_values\": 2,\n        \"samples\": [\n          \"LightGBM\",\n          \"RandomForest\"\n        ],\n        \"semantic_type\": \"\",\n        \"description\": \"\"\n      }\n    },\n    {\n      \"column\": \"Accuracy\",\n      \"properties\": {\n        \"dtype\": \"number\",\n        \"std\": 8.553366168938011e-05,\n        \"min\": 0.9993951856779969,\n        \"max\": 0.9995161485423975,\n        \"num_unique_values\": 2,\n        \"samples\": [\n          0.9993951856779969,\n          0.9995161485423975\n        ],\n        \"semantic_type\": \"\",\n        \"description\": \"\"\n      }\n    },\n    {\n      \"column\": \"Precision\",\n      \"properties\": {\n        \"dtype\": \"number\",\n        \"std\": 0.004851111042382813,\n        \"min\": 0.9896551724137931,\n        \"max\": 0.9965156794425087,\n        \"num_unique_values\": 2,\n        \"samples\": [\n          0.9896551724137931,\n          0.9965156794425087\n        ],\n        \"semantic_type\": \"\",\n        \"description\": \"\"\n      }\n    },\n    {\n      \"column\": \"Recall\",\n      \"properties\": {\n        \"dtype\": \"number\",\n        \"std\": 0.0024467362670815168,\n        \"min\": 0.9896193771626297,\n        \"max\": 0.9930795847750865,\n        \"num_unique_values\": 2,\n        \"samples\": [\n          0.9930795847750865,\n          0.9896193771626297\n        ],\n        \"semantic_type\": \"\",\n        \"description\": \"\"\n      }\n    },\n    {\n      \"column\": \"F1\",\n      \"properties\": {\n        \"dtype\": \"number\",\n        \"std\": 0.0011958124178097066,\n        \"min\": 0.9913644214162349,\n        \"max\": 0.9930555555555556,\n        \"num_unique_values\": 2,\n        \"samples\": [\n          0.9913644214162349,\n          0.9930555555555556\n        ],\n        \"semantic_type\": \"\",\n        \"description\": \"\"\n      }\n    },\n    {\n      \"column\": \"ROC-AUC\",\n      \"properties\": {\n        \"dtype\": \"number\",\n        \"std\": 2.7601687645012373e-06,\n        \"min\": 0.9999930605011533,\n        \"max\": 0.9999969639692545,\n        \"num_unique_values\": 2,\n        \"samples\": [\n          0.9999930605011533,\n          0.9999969639692545\n        ],\n        \"semantic_type\": \"\",\n        \"description\": \"\"\n      }\n    },\n    {\n      \"column\": \"PR-AUC\",\n      \"properties\": {\n        \"dtype\": \"number\",\n        \"std\": 7.43167696479518e-05,\n        \"min\": 0.9998110621393893,\n        \"max\": 0.9999161619229372,\n        \"num_unique_values\": 2,\n        \"samples\": [\n          0.9998110621393893,\n          0.9999161619229372\n        ],\n        \"semantic_type\": \"\",\n        \"description\": \"\"\n      }\n    }\n  ]\n}"
            }
          },
          "metadata": {}
        }
      ]
    },
    {
      "cell_type": "markdown",
      "source": [
        "### XGBoost"
      ],
      "metadata": {
        "id": "tcD1eTc9s4pw"
      }
    },
    {
      "cell_type": "code",
      "source": [
        "ratio = y_train.value_counts()[0] / y_train.value_counts()[1]\n",
        "eval_model(\n",
        "    'XGBoost',\n",
        "    XGBClassifier(\n",
        "        n_estimators=300,\n",
        "        scale_pos_weight=ratio,\n",
        "        use_label_encoder=False,\n",
        "        eval_metric='logloss',\n",
        "        random_state=42\n",
        "    )\n",
        ")"
      ],
      "metadata": {
        "colab": {
          "base_uri": "https://localhost:8080/",
          "height": 310
        },
        "id": "0SOZHi8Ps6Dn",
        "outputId": "20db21c4-b51c-4d43-a958-31c9316b3561"
      },
      "execution_count": 14,
      "outputs": [
        {
          "output_type": "stream",
          "name": "stderr",
          "text": [
            "/usr/local/lib/python3.11/dist-packages/xgboost/core.py:158: UserWarning: [19:29:34] WARNING: /workspace/src/learner.cc:740: \n",
            "Parameters: { \"use_label_encoder\" } are not used.\n",
            "\n",
            "  warnings.warn(smsg, UserWarning)\n"
          ]
        },
        {
          "output_type": "display_data",
          "data": {
            "text/plain": [
              "          Model  Accuracy  Precision    Recall        F1   ROC-AUC    PR-AUC\n",
              "0  RandomForest  0.999516   0.996516  0.989619  0.993056  0.999997  0.999916\n",
              "1      LightGBM  0.999395   0.989655  0.993080  0.991364  0.999993  0.999811\n",
              "2       XGBoost  0.999516   0.993080  0.993080  0.993080  0.999988  0.999683"
            ],
            "text/html": [
              "\n",
              "  <div id=\"df-81828bac-9c7d-446d-b51b-8ccf7516884d\" class=\"colab-df-container\">\n",
              "    <div>\n",
              "<style scoped>\n",
              "    .dataframe tbody tr th:only-of-type {\n",
              "        vertical-align: middle;\n",
              "    }\n",
              "\n",
              "    .dataframe tbody tr th {\n",
              "        vertical-align: top;\n",
              "    }\n",
              "\n",
              "    .dataframe thead th {\n",
              "        text-align: right;\n",
              "    }\n",
              "</style>\n",
              "<table border=\"1\" class=\"dataframe\">\n",
              "  <thead>\n",
              "    <tr style=\"text-align: right;\">\n",
              "      <th></th>\n",
              "      <th>Model</th>\n",
              "      <th>Accuracy</th>\n",
              "      <th>Precision</th>\n",
              "      <th>Recall</th>\n",
              "      <th>F1</th>\n",
              "      <th>ROC-AUC</th>\n",
              "      <th>PR-AUC</th>\n",
              "    </tr>\n",
              "  </thead>\n",
              "  <tbody>\n",
              "    <tr>\n",
              "      <th>0</th>\n",
              "      <td>RandomForest</td>\n",
              "      <td>0.999516</td>\n",
              "      <td>0.996516</td>\n",
              "      <td>0.989619</td>\n",
              "      <td>0.993056</td>\n",
              "      <td>0.999997</td>\n",
              "      <td>0.999916</td>\n",
              "    </tr>\n",
              "    <tr>\n",
              "      <th>1</th>\n",
              "      <td>LightGBM</td>\n",
              "      <td>0.999395</td>\n",
              "      <td>0.989655</td>\n",
              "      <td>0.993080</td>\n",
              "      <td>0.991364</td>\n",
              "      <td>0.999993</td>\n",
              "      <td>0.999811</td>\n",
              "    </tr>\n",
              "    <tr>\n",
              "      <th>2</th>\n",
              "      <td>XGBoost</td>\n",
              "      <td>0.999516</td>\n",
              "      <td>0.993080</td>\n",
              "      <td>0.993080</td>\n",
              "      <td>0.993080</td>\n",
              "      <td>0.999988</td>\n",
              "      <td>0.999683</td>\n",
              "    </tr>\n",
              "  </tbody>\n",
              "</table>\n",
              "</div>\n",
              "    <div class=\"colab-df-buttons\">\n",
              "\n",
              "  <div class=\"colab-df-container\">\n",
              "    <button class=\"colab-df-convert\" onclick=\"convertToInteractive('df-81828bac-9c7d-446d-b51b-8ccf7516884d')\"\n",
              "            title=\"Convert this dataframe to an interactive table.\"\n",
              "            style=\"display:none;\">\n",
              "\n",
              "  <svg xmlns=\"http://www.w3.org/2000/svg\" height=\"24px\" viewBox=\"0 -960 960 960\">\n",
              "    <path d=\"M120-120v-720h720v720H120Zm60-500h600v-160H180v160Zm220 220h160v-160H400v160Zm0 220h160v-160H400v160ZM180-400h160v-160H180v160Zm440 0h160v-160H620v160ZM180-180h160v-160H180v160Zm440 0h160v-160H620v160Z\"/>\n",
              "  </svg>\n",
              "    </button>\n",
              "\n",
              "  <style>\n",
              "    .colab-df-container {\n",
              "      display:flex;\n",
              "      gap: 12px;\n",
              "    }\n",
              "\n",
              "    .colab-df-convert {\n",
              "      background-color: #E8F0FE;\n",
              "      border: none;\n",
              "      border-radius: 50%;\n",
              "      cursor: pointer;\n",
              "      display: none;\n",
              "      fill: #1967D2;\n",
              "      height: 32px;\n",
              "      padding: 0 0 0 0;\n",
              "      width: 32px;\n",
              "    }\n",
              "\n",
              "    .colab-df-convert:hover {\n",
              "      background-color: #E2EBFA;\n",
              "      box-shadow: 0px 1px 2px rgba(60, 64, 67, 0.3), 0px 1px 3px 1px rgba(60, 64, 67, 0.15);\n",
              "      fill: #174EA6;\n",
              "    }\n",
              "\n",
              "    .colab-df-buttons div {\n",
              "      margin-bottom: 4px;\n",
              "    }\n",
              "\n",
              "    [theme=dark] .colab-df-convert {\n",
              "      background-color: #3B4455;\n",
              "      fill: #D2E3FC;\n",
              "    }\n",
              "\n",
              "    [theme=dark] .colab-df-convert:hover {\n",
              "      background-color: #434B5C;\n",
              "      box-shadow: 0px 1px 3px 1px rgba(0, 0, 0, 0.15);\n",
              "      filter: drop-shadow(0px 1px 2px rgba(0, 0, 0, 0.3));\n",
              "      fill: #FFFFFF;\n",
              "    }\n",
              "  </style>\n",
              "\n",
              "    <script>\n",
              "      const buttonEl =\n",
              "        document.querySelector('#df-81828bac-9c7d-446d-b51b-8ccf7516884d button.colab-df-convert');\n",
              "      buttonEl.style.display =\n",
              "        google.colab.kernel.accessAllowed ? 'block' : 'none';\n",
              "\n",
              "      async function convertToInteractive(key) {\n",
              "        const element = document.querySelector('#df-81828bac-9c7d-446d-b51b-8ccf7516884d');\n",
              "        const dataTable =\n",
              "          await google.colab.kernel.invokeFunction('convertToInteractive',\n",
              "                                                    [key], {});\n",
              "        if (!dataTable) return;\n",
              "\n",
              "        const docLinkHtml = 'Like what you see? Visit the ' +\n",
              "          '<a target=\"_blank\" href=https://colab.research.google.com/notebooks/data_table.ipynb>data table notebook</a>'\n",
              "          + ' to learn more about interactive tables.';\n",
              "        element.innerHTML = '';\n",
              "        dataTable['output_type'] = 'display_data';\n",
              "        await google.colab.output.renderOutput(dataTable, element);\n",
              "        const docLink = document.createElement('div');\n",
              "        docLink.innerHTML = docLinkHtml;\n",
              "        element.appendChild(docLink);\n",
              "      }\n",
              "    </script>\n",
              "  </div>\n",
              "\n",
              "\n",
              "    <div id=\"df-4286fb7a-f78f-4405-a8f2-638e26ce1724\">\n",
              "      <button class=\"colab-df-quickchart\" onclick=\"quickchart('df-4286fb7a-f78f-4405-a8f2-638e26ce1724')\"\n",
              "                title=\"Suggest charts\"\n",
              "                style=\"display:none;\">\n",
              "\n",
              "<svg xmlns=\"http://www.w3.org/2000/svg\" height=\"24px\"viewBox=\"0 0 24 24\"\n",
              "     width=\"24px\">\n",
              "    <g>\n",
              "        <path d=\"M19 3H5c-1.1 0-2 .9-2 2v14c0 1.1.9 2 2 2h14c1.1 0 2-.9 2-2V5c0-1.1-.9-2-2-2zM9 17H7v-7h2v7zm4 0h-2V7h2v10zm4 0h-2v-4h2v4z\"/>\n",
              "    </g>\n",
              "</svg>\n",
              "      </button>\n",
              "\n",
              "<style>\n",
              "  .colab-df-quickchart {\n",
              "      --bg-color: #E8F0FE;\n",
              "      --fill-color: #1967D2;\n",
              "      --hover-bg-color: #E2EBFA;\n",
              "      --hover-fill-color: #174EA6;\n",
              "      --disabled-fill-color: #AAA;\n",
              "      --disabled-bg-color: #DDD;\n",
              "  }\n",
              "\n",
              "  [theme=dark] .colab-df-quickchart {\n",
              "      --bg-color: #3B4455;\n",
              "      --fill-color: #D2E3FC;\n",
              "      --hover-bg-color: #434B5C;\n",
              "      --hover-fill-color: #FFFFFF;\n",
              "      --disabled-bg-color: #3B4455;\n",
              "      --disabled-fill-color: #666;\n",
              "  }\n",
              "\n",
              "  .colab-df-quickchart {\n",
              "    background-color: var(--bg-color);\n",
              "    border: none;\n",
              "    border-radius: 50%;\n",
              "    cursor: pointer;\n",
              "    display: none;\n",
              "    fill: var(--fill-color);\n",
              "    height: 32px;\n",
              "    padding: 0;\n",
              "    width: 32px;\n",
              "  }\n",
              "\n",
              "  .colab-df-quickchart:hover {\n",
              "    background-color: var(--hover-bg-color);\n",
              "    box-shadow: 0 1px 2px rgba(60, 64, 67, 0.3), 0 1px 3px 1px rgba(60, 64, 67, 0.15);\n",
              "    fill: var(--button-hover-fill-color);\n",
              "  }\n",
              "\n",
              "  .colab-df-quickchart-complete:disabled,\n",
              "  .colab-df-quickchart-complete:disabled:hover {\n",
              "    background-color: var(--disabled-bg-color);\n",
              "    fill: var(--disabled-fill-color);\n",
              "    box-shadow: none;\n",
              "  }\n",
              "\n",
              "  .colab-df-spinner {\n",
              "    border: 2px solid var(--fill-color);\n",
              "    border-color: transparent;\n",
              "    border-bottom-color: var(--fill-color);\n",
              "    animation:\n",
              "      spin 1s steps(1) infinite;\n",
              "  }\n",
              "\n",
              "  @keyframes spin {\n",
              "    0% {\n",
              "      border-color: transparent;\n",
              "      border-bottom-color: var(--fill-color);\n",
              "      border-left-color: var(--fill-color);\n",
              "    }\n",
              "    20% {\n",
              "      border-color: transparent;\n",
              "      border-left-color: var(--fill-color);\n",
              "      border-top-color: var(--fill-color);\n",
              "    }\n",
              "    30% {\n",
              "      border-color: transparent;\n",
              "      border-left-color: var(--fill-color);\n",
              "      border-top-color: var(--fill-color);\n",
              "      border-right-color: var(--fill-color);\n",
              "    }\n",
              "    40% {\n",
              "      border-color: transparent;\n",
              "      border-right-color: var(--fill-color);\n",
              "      border-top-color: var(--fill-color);\n",
              "    }\n",
              "    60% {\n",
              "      border-color: transparent;\n",
              "      border-right-color: var(--fill-color);\n",
              "    }\n",
              "    80% {\n",
              "      border-color: transparent;\n",
              "      border-right-color: var(--fill-color);\n",
              "      border-bottom-color: var(--fill-color);\n",
              "    }\n",
              "    90% {\n",
              "      border-color: transparent;\n",
              "      border-bottom-color: var(--fill-color);\n",
              "    }\n",
              "  }\n",
              "</style>\n",
              "\n",
              "      <script>\n",
              "        async function quickchart(key) {\n",
              "          const quickchartButtonEl =\n",
              "            document.querySelector('#' + key + ' button');\n",
              "          quickchartButtonEl.disabled = true;  // To prevent multiple clicks.\n",
              "          quickchartButtonEl.classList.add('colab-df-spinner');\n",
              "          try {\n",
              "            const charts = await google.colab.kernel.invokeFunction(\n",
              "                'suggestCharts', [key], {});\n",
              "          } catch (error) {\n",
              "            console.error('Error during call to suggestCharts:', error);\n",
              "          }\n",
              "          quickchartButtonEl.classList.remove('colab-df-spinner');\n",
              "          quickchartButtonEl.classList.add('colab-df-quickchart-complete');\n",
              "        }\n",
              "        (() => {\n",
              "          let quickchartButtonEl =\n",
              "            document.querySelector('#df-4286fb7a-f78f-4405-a8f2-638e26ce1724 button');\n",
              "          quickchartButtonEl.style.display =\n",
              "            google.colab.kernel.accessAllowed ? 'block' : 'none';\n",
              "        })();\n",
              "      </script>\n",
              "    </div>\n",
              "\n",
              "    </div>\n",
              "  </div>\n"
            ],
            "application/vnd.google.colaboratory.intrinsic+json": {
              "type": "dataframe",
              "summary": "{\n  \"name\": \")\",\n  \"rows\": 3,\n  \"fields\": [\n    {\n      \"column\": \"Model\",\n      \"properties\": {\n        \"dtype\": \"string\",\n        \"num_unique_values\": 3,\n        \"samples\": [\n          \"RandomForest\",\n          \"LightGBM\",\n          \"XGBoost\"\n        ],\n        \"semantic_type\": \"\",\n        \"description\": \"\"\n      }\n    },\n    {\n      \"column\": \"Accuracy\",\n      \"properties\": {\n        \"dtype\": \"number\",\n        \"std\": 6.98379423236077e-05,\n        \"min\": 0.9993951856779969,\n        \"max\": 0.9995161485423975,\n        \"num_unique_values\": 2,\n        \"samples\": [\n          0.9993951856779969,\n          0.9995161485423975\n        ],\n        \"semantic_type\": \"\",\n        \"description\": \"\"\n      }\n    },\n    {\n      \"column\": \"Precision\",\n      \"properties\": {\n        \"dtype\": \"number\",\n        \"std\": 0.0034302551721099805,\n        \"min\": 0.9896551724137931,\n        \"max\": 0.9965156794425087,\n        \"num_unique_values\": 3,\n        \"samples\": [\n          0.9965156794425087,\n          0.9896551724137931\n        ],\n        \"semantic_type\": \"\",\n        \"description\": \"\"\n      }\n    },\n    {\n      \"column\": \"Recall\",\n      \"properties\": {\n        \"dtype\": \"number\",\n        \"std\": 0.001997751796503926,\n        \"min\": 0.9896193771626297,\n        \"max\": 0.9930795847750865,\n        \"num_unique_values\": 2,\n        \"samples\": [\n          0.9930795847750865,\n          0.9896193771626297\n        ],\n        \"semantic_type\": \"\",\n        \"description\": \"\"\n      }\n    },\n    {\n      \"column\": \"F1\",\n      \"properties\": {\n        \"dtype\": \"number\",\n        \"std\": 0.0009833867862404642,\n        \"min\": 0.9913644214162349,\n        \"max\": 0.9930795847750865,\n        \"num_unique_values\": 3,\n        \"samples\": [\n          0.9930555555555556,\n          0.9913644214162349\n        ],\n        \"semantic_type\": \"\",\n        \"description\": \"\"\n      }\n    },\n    {\n      \"column\": \"ROC-AUC\",\n      \"properties\": {\n        \"dtype\": \"number\",\n        \"std\": 4.569509816708719e-06,\n        \"min\": 0.9999878558770182,\n        \"max\": 0.9999969639692545,\n        \"num_unique_values\": 3,\n        \"samples\": [\n          0.9999969639692545,\n          0.9999930605011533\n        ],\n        \"semantic_type\": \"\",\n        \"description\": \"\"\n      }\n    },\n    {\n      \"column\": \"PR-AUC\",\n      \"properties\": {\n        \"dtype\": \"number\",\n        \"std\": 0.00011701087744969792,\n        \"min\": 0.9996825314884529,\n        \"max\": 0.9999161619229372,\n        \"num_unique_values\": 3,\n        \"samples\": [\n          0.9999161619229372,\n          0.9998110621393893\n        ],\n        \"semantic_type\": \"\",\n        \"description\": \"\"\n      }\n    }\n  ]\n}"
            }
          },
          "metadata": {}
        }
      ]
    },
    {
      "cell_type": "markdown",
      "source": [
        "### CatBoost"
      ],
      "metadata": {
        "id": "OHTPegHStPnf"
      }
    },
    {
      "cell_type": "code",
      "source": [
        "X_train_cb = pd.concat([X_train_enc, X_train_num], axis=1)\n",
        "X_test_cb  = pd.concat([X_test_enc,  X_test_num], axis=1)\n",
        "\n",
        "eval_model(\n",
        "    'CatBoost',\n",
        "    CatBoostClassifier(\n",
        "        iterations=400,\n",
        "        learning_rate=0.1,\n",
        "        depth=6,\n",
        "        auto_class_weights='Balanced',\n",
        "        verbose=False,\n",
        "        random_state=42\n",
        "    )\n",
        ")"
      ],
      "metadata": {
        "colab": {
          "base_uri": "https://localhost:8080/",
          "height": 262
        },
        "id": "A30rMZv6tU09",
        "outputId": "db4d9959-28aa-42c3-a134-22dae6143927"
      },
      "execution_count": 15,
      "outputs": [
        {
          "output_type": "display_data",
          "data": {
            "text/plain": [
              "          Model  Accuracy  Precision    Recall        F1   ROC-AUC    PR-AUC\n",
              "3      CatBoost  0.999879   0.996552  1.000000  0.998273  1.000000  0.999988\n",
              "0  RandomForest  0.999516   0.996516  0.989619  0.993056  0.999997  0.999916\n",
              "1      LightGBM  0.999395   0.989655  0.993080  0.991364  0.999993  0.999811\n",
              "2       XGBoost  0.999516   0.993080  0.993080  0.993080  0.999988  0.999683"
            ],
            "text/html": [
              "\n",
              "  <div id=\"df-8dbcca6a-1469-4236-8932-294fd9f6d12e\" class=\"colab-df-container\">\n",
              "    <div>\n",
              "<style scoped>\n",
              "    .dataframe tbody tr th:only-of-type {\n",
              "        vertical-align: middle;\n",
              "    }\n",
              "\n",
              "    .dataframe tbody tr th {\n",
              "        vertical-align: top;\n",
              "    }\n",
              "\n",
              "    .dataframe thead th {\n",
              "        text-align: right;\n",
              "    }\n",
              "</style>\n",
              "<table border=\"1\" class=\"dataframe\">\n",
              "  <thead>\n",
              "    <tr style=\"text-align: right;\">\n",
              "      <th></th>\n",
              "      <th>Model</th>\n",
              "      <th>Accuracy</th>\n",
              "      <th>Precision</th>\n",
              "      <th>Recall</th>\n",
              "      <th>F1</th>\n",
              "      <th>ROC-AUC</th>\n",
              "      <th>PR-AUC</th>\n",
              "    </tr>\n",
              "  </thead>\n",
              "  <tbody>\n",
              "    <tr>\n",
              "      <th>3</th>\n",
              "      <td>CatBoost</td>\n",
              "      <td>0.999879</td>\n",
              "      <td>0.996552</td>\n",
              "      <td>1.000000</td>\n",
              "      <td>0.998273</td>\n",
              "      <td>1.000000</td>\n",
              "      <td>0.999988</td>\n",
              "    </tr>\n",
              "    <tr>\n",
              "      <th>0</th>\n",
              "      <td>RandomForest</td>\n",
              "      <td>0.999516</td>\n",
              "      <td>0.996516</td>\n",
              "      <td>0.989619</td>\n",
              "      <td>0.993056</td>\n",
              "      <td>0.999997</td>\n",
              "      <td>0.999916</td>\n",
              "    </tr>\n",
              "    <tr>\n",
              "      <th>1</th>\n",
              "      <td>LightGBM</td>\n",
              "      <td>0.999395</td>\n",
              "      <td>0.989655</td>\n",
              "      <td>0.993080</td>\n",
              "      <td>0.991364</td>\n",
              "      <td>0.999993</td>\n",
              "      <td>0.999811</td>\n",
              "    </tr>\n",
              "    <tr>\n",
              "      <th>2</th>\n",
              "      <td>XGBoost</td>\n",
              "      <td>0.999516</td>\n",
              "      <td>0.993080</td>\n",
              "      <td>0.993080</td>\n",
              "      <td>0.993080</td>\n",
              "      <td>0.999988</td>\n",
              "      <td>0.999683</td>\n",
              "    </tr>\n",
              "  </tbody>\n",
              "</table>\n",
              "</div>\n",
              "    <div class=\"colab-df-buttons\">\n",
              "\n",
              "  <div class=\"colab-df-container\">\n",
              "    <button class=\"colab-df-convert\" onclick=\"convertToInteractive('df-8dbcca6a-1469-4236-8932-294fd9f6d12e')\"\n",
              "            title=\"Convert this dataframe to an interactive table.\"\n",
              "            style=\"display:none;\">\n",
              "\n",
              "  <svg xmlns=\"http://www.w3.org/2000/svg\" height=\"24px\" viewBox=\"0 -960 960 960\">\n",
              "    <path d=\"M120-120v-720h720v720H120Zm60-500h600v-160H180v160Zm220 220h160v-160H400v160Zm0 220h160v-160H400v160ZM180-400h160v-160H180v160Zm440 0h160v-160H620v160ZM180-180h160v-160H180v160Zm440 0h160v-160H620v160Z\"/>\n",
              "  </svg>\n",
              "    </button>\n",
              "\n",
              "  <style>\n",
              "    .colab-df-container {\n",
              "      display:flex;\n",
              "      gap: 12px;\n",
              "    }\n",
              "\n",
              "    .colab-df-convert {\n",
              "      background-color: #E8F0FE;\n",
              "      border: none;\n",
              "      border-radius: 50%;\n",
              "      cursor: pointer;\n",
              "      display: none;\n",
              "      fill: #1967D2;\n",
              "      height: 32px;\n",
              "      padding: 0 0 0 0;\n",
              "      width: 32px;\n",
              "    }\n",
              "\n",
              "    .colab-df-convert:hover {\n",
              "      background-color: #E2EBFA;\n",
              "      box-shadow: 0px 1px 2px rgba(60, 64, 67, 0.3), 0px 1px 3px 1px rgba(60, 64, 67, 0.15);\n",
              "      fill: #174EA6;\n",
              "    }\n",
              "\n",
              "    .colab-df-buttons div {\n",
              "      margin-bottom: 4px;\n",
              "    }\n",
              "\n",
              "    [theme=dark] .colab-df-convert {\n",
              "      background-color: #3B4455;\n",
              "      fill: #D2E3FC;\n",
              "    }\n",
              "\n",
              "    [theme=dark] .colab-df-convert:hover {\n",
              "      background-color: #434B5C;\n",
              "      box-shadow: 0px 1px 3px 1px rgba(0, 0, 0, 0.15);\n",
              "      filter: drop-shadow(0px 1px 2px rgba(0, 0, 0, 0.3));\n",
              "      fill: #FFFFFF;\n",
              "    }\n",
              "  </style>\n",
              "\n",
              "    <script>\n",
              "      const buttonEl =\n",
              "        document.querySelector('#df-8dbcca6a-1469-4236-8932-294fd9f6d12e button.colab-df-convert');\n",
              "      buttonEl.style.display =\n",
              "        google.colab.kernel.accessAllowed ? 'block' : 'none';\n",
              "\n",
              "      async function convertToInteractive(key) {\n",
              "        const element = document.querySelector('#df-8dbcca6a-1469-4236-8932-294fd9f6d12e');\n",
              "        const dataTable =\n",
              "          await google.colab.kernel.invokeFunction('convertToInteractive',\n",
              "                                                    [key], {});\n",
              "        if (!dataTable) return;\n",
              "\n",
              "        const docLinkHtml = 'Like what you see? Visit the ' +\n",
              "          '<a target=\"_blank\" href=https://colab.research.google.com/notebooks/data_table.ipynb>data table notebook</a>'\n",
              "          + ' to learn more about interactive tables.';\n",
              "        element.innerHTML = '';\n",
              "        dataTable['output_type'] = 'display_data';\n",
              "        await google.colab.output.renderOutput(dataTable, element);\n",
              "        const docLink = document.createElement('div');\n",
              "        docLink.innerHTML = docLinkHtml;\n",
              "        element.appendChild(docLink);\n",
              "      }\n",
              "    </script>\n",
              "  </div>\n",
              "\n",
              "\n",
              "    <div id=\"df-bae90513-4015-4efd-a939-6c4156e6ce47\">\n",
              "      <button class=\"colab-df-quickchart\" onclick=\"quickchart('df-bae90513-4015-4efd-a939-6c4156e6ce47')\"\n",
              "                title=\"Suggest charts\"\n",
              "                style=\"display:none;\">\n",
              "\n",
              "<svg xmlns=\"http://www.w3.org/2000/svg\" height=\"24px\"viewBox=\"0 0 24 24\"\n",
              "     width=\"24px\">\n",
              "    <g>\n",
              "        <path d=\"M19 3H5c-1.1 0-2 .9-2 2v14c0 1.1.9 2 2 2h14c1.1 0 2-.9 2-2V5c0-1.1-.9-2-2-2zM9 17H7v-7h2v7zm4 0h-2V7h2v10zm4 0h-2v-4h2v4z\"/>\n",
              "    </g>\n",
              "</svg>\n",
              "      </button>\n",
              "\n",
              "<style>\n",
              "  .colab-df-quickchart {\n",
              "      --bg-color: #E8F0FE;\n",
              "      --fill-color: #1967D2;\n",
              "      --hover-bg-color: #E2EBFA;\n",
              "      --hover-fill-color: #174EA6;\n",
              "      --disabled-fill-color: #AAA;\n",
              "      --disabled-bg-color: #DDD;\n",
              "  }\n",
              "\n",
              "  [theme=dark] .colab-df-quickchart {\n",
              "      --bg-color: #3B4455;\n",
              "      --fill-color: #D2E3FC;\n",
              "      --hover-bg-color: #434B5C;\n",
              "      --hover-fill-color: #FFFFFF;\n",
              "      --disabled-bg-color: #3B4455;\n",
              "      --disabled-fill-color: #666;\n",
              "  }\n",
              "\n",
              "  .colab-df-quickchart {\n",
              "    background-color: var(--bg-color);\n",
              "    border: none;\n",
              "    border-radius: 50%;\n",
              "    cursor: pointer;\n",
              "    display: none;\n",
              "    fill: var(--fill-color);\n",
              "    height: 32px;\n",
              "    padding: 0;\n",
              "    width: 32px;\n",
              "  }\n",
              "\n",
              "  .colab-df-quickchart:hover {\n",
              "    background-color: var(--hover-bg-color);\n",
              "    box-shadow: 0 1px 2px rgba(60, 64, 67, 0.3), 0 1px 3px 1px rgba(60, 64, 67, 0.15);\n",
              "    fill: var(--button-hover-fill-color);\n",
              "  }\n",
              "\n",
              "  .colab-df-quickchart-complete:disabled,\n",
              "  .colab-df-quickchart-complete:disabled:hover {\n",
              "    background-color: var(--disabled-bg-color);\n",
              "    fill: var(--disabled-fill-color);\n",
              "    box-shadow: none;\n",
              "  }\n",
              "\n",
              "  .colab-df-spinner {\n",
              "    border: 2px solid var(--fill-color);\n",
              "    border-color: transparent;\n",
              "    border-bottom-color: var(--fill-color);\n",
              "    animation:\n",
              "      spin 1s steps(1) infinite;\n",
              "  }\n",
              "\n",
              "  @keyframes spin {\n",
              "    0% {\n",
              "      border-color: transparent;\n",
              "      border-bottom-color: var(--fill-color);\n",
              "      border-left-color: var(--fill-color);\n",
              "    }\n",
              "    20% {\n",
              "      border-color: transparent;\n",
              "      border-left-color: var(--fill-color);\n",
              "      border-top-color: var(--fill-color);\n",
              "    }\n",
              "    30% {\n",
              "      border-color: transparent;\n",
              "      border-left-color: var(--fill-color);\n",
              "      border-top-color: var(--fill-color);\n",
              "      border-right-color: var(--fill-color);\n",
              "    }\n",
              "    40% {\n",
              "      border-color: transparent;\n",
              "      border-right-color: var(--fill-color);\n",
              "      border-top-color: var(--fill-color);\n",
              "    }\n",
              "    60% {\n",
              "      border-color: transparent;\n",
              "      border-right-color: var(--fill-color);\n",
              "    }\n",
              "    80% {\n",
              "      border-color: transparent;\n",
              "      border-right-color: var(--fill-color);\n",
              "      border-bottom-color: var(--fill-color);\n",
              "    }\n",
              "    90% {\n",
              "      border-color: transparent;\n",
              "      border-bottom-color: var(--fill-color);\n",
              "    }\n",
              "  }\n",
              "</style>\n",
              "\n",
              "      <script>\n",
              "        async function quickchart(key) {\n",
              "          const quickchartButtonEl =\n",
              "            document.querySelector('#' + key + ' button');\n",
              "          quickchartButtonEl.disabled = true;  // To prevent multiple clicks.\n",
              "          quickchartButtonEl.classList.add('colab-df-spinner');\n",
              "          try {\n",
              "            const charts = await google.colab.kernel.invokeFunction(\n",
              "                'suggestCharts', [key], {});\n",
              "          } catch (error) {\n",
              "            console.error('Error during call to suggestCharts:', error);\n",
              "          }\n",
              "          quickchartButtonEl.classList.remove('colab-df-spinner');\n",
              "          quickchartButtonEl.classList.add('colab-df-quickchart-complete');\n",
              "        }\n",
              "        (() => {\n",
              "          let quickchartButtonEl =\n",
              "            document.querySelector('#df-bae90513-4015-4efd-a939-6c4156e6ce47 button');\n",
              "          quickchartButtonEl.style.display =\n",
              "            google.colab.kernel.accessAllowed ? 'block' : 'none';\n",
              "        })();\n",
              "      </script>\n",
              "    </div>\n",
              "\n",
              "    </div>\n",
              "  </div>\n"
            ],
            "application/vnd.google.colaboratory.intrinsic+json": {
              "type": "dataframe",
              "summary": "{\n  \"name\": \")\",\n  \"rows\": 4,\n  \"fields\": [\n    {\n      \"column\": \"Model\",\n      \"properties\": {\n        \"dtype\": \"string\",\n        \"num_unique_values\": 4,\n        \"samples\": [\n          \"RandomForest\",\n          \"XGBoost\",\n          \"CatBoost\"\n        ],\n        \"semantic_type\": \"\",\n        \"description\": \"\"\n      }\n    },\n    {\n      \"column\": \"Accuracy\",\n      \"properties\": {\n        \"dtype\": \"number\",\n        \"std\": 0.0002095138269709299,\n        \"min\": 0.9993951856779969,\n        \"max\": 0.9998790371355993,\n        \"num_unique_values\": 3,\n        \"samples\": [\n          0.9998790371355993,\n          0.9995161485423975,\n          0.9993951856779969\n        ],\n        \"semantic_type\": \"\",\n        \"description\": \"\"\n      }\n    },\n    {\n      \"column\": \"Precision\",\n      \"properties\": {\n        \"dtype\": \"number\",\n        \"std\": 0.0032941789560465102,\n        \"min\": 0.9896551724137931,\n        \"max\": 0.996551724137931,\n        \"num_unique_values\": 4,\n        \"samples\": [\n          0.9965156794425087,\n          0.9930795847750865,\n          0.996551724137931\n        ],\n        \"semantic_type\": \"\",\n        \"description\": \"\"\n      }\n    },\n    {\n      \"column\": \"Recall\",\n      \"properties\": {\n        \"dtype\": \"number\",\n        \"std\": 0.004353999097618672,\n        \"min\": 0.9896193771626297,\n        \"max\": 1.0,\n        \"num_unique_values\": 3,\n        \"samples\": [\n          1.0,\n          0.9896193771626297,\n          0.9930795847750865\n        ],\n        \"semantic_type\": \"\",\n        \"description\": \"\"\n      }\n    },\n    {\n      \"column\": \"F1\",\n      \"properties\": {\n        \"dtype\": \"number\",\n        \"std\": 0.0029961090802246215,\n        \"min\": 0.9913644214162349,\n        \"max\": 0.998272884283247,\n        \"num_unique_values\": 4,\n        \"samples\": [\n          0.9930555555555556,\n          0.9930795847750865,\n          0.998272884283247\n        ],\n        \"semantic_type\": \"\",\n        \"description\": \"\"\n      }\n    },\n    {\n      \"column\": \"ROC-AUC\",\n      \"properties\": {\n        \"dtype\": \"number\",\n        \"std\": 5.095040827844042e-06,\n        \"min\": 0.9999878558770182,\n        \"max\": 0.999999566281322,\n        \"num_unique_values\": 4,\n        \"samples\": [\n          0.9999969639692545,\n          0.9999878558770182,\n          0.999999566281322\n        ],\n        \"semantic_type\": \"\",\n        \"description\": \"\"\n      }\n    },\n    {\n      \"column\": \"PR-AUC\",\n      \"properties\": {\n        \"dtype\": \"number\",\n        \"std\": 0.00013290998772510858,\n        \"min\": 0.9996825314884529,\n        \"max\": 0.9999880476064454,\n        \"num_unique_values\": 4,\n        \"samples\": [\n          0.9999161619229372,\n          0.9996825314884529,\n          0.9999880476064454\n        ],\n        \"semantic_type\": \"\",\n        \"description\": \"\"\n      }\n    }\n  ]\n}"
            }
          },
          "metadata": {}
        }
      ]
    },
    {
      "cell_type": "markdown",
      "source": [
        "## Model Comparison"
      ],
      "metadata": {
        "id": "dPeWzXG7tfAb"
      }
    },
    {
      "cell_type": "markdown",
      "source": [
        "From the validation results across all four models the following was found:\n",
        "\n",
        "*   LightGBM edges out the pack with a perfect ROC-AUC of 1.00, PR-AUC of 0.99999, and an F1-score of 0.998.\n",
        "*  XGBoost is virtually identical (ROC-AUC = 1.00, PR-AUC= 0.99996, F1 ≈ 0.998).\n",
        "*   CatBoost follows closely (ROC-AUC = 0.999999, PR-AUC = 0.99997, F1 = 0.996).\n",
        "*   Random Forest also performs exceptionally (ROC-AUC = 1.00, PR-AUC = 0.99992, F1 = 0.989) but slightly trails the other models.\n",
        "\n",
        "\n",
        "Overall, it seems that LightGBM model is the strongest model for flagging CIN cases. However the near perfect scores show that it is likely the models are using certain atttributes as a proxy for CIN. These scores are near impossible in reality.\n",
        "\n",
        "\n",
        "\n",
        "\n"
      ],
      "metadata": {
        "id": "Bs68ZEDGthF-"
      }
    },
    {
      "cell_type": "markdown",
      "source": [
        "## Investigate Attendance Correlation"
      ],
      "metadata": {
        "id": "cQgCz-eyEUyF"
      }
    },
    {
      "cell_type": "markdown",
      "source": [
        "To investigate the near perfect scores of the LightGBM, features and their use are loaded."
      ],
      "metadata": {
        "id": "FAkCctUbNjPY"
      }
    },
    {
      "cell_type": "code",
      "source": [
        "# Feature name list categories plus attendance\n",
        "feature_names = list(ohe.get_feature_names_out(cat_cols)) + ['Attendance']\n",
        "\n",
        "# Refit the evaluated LightGBM\n",
        "lgb_full = LGBMClassifier(\n",
        "    n_estimators=300,\n",
        "    is_unbalance=True,\n",
        "    random_state=42,\n",
        "    verbose=-1,\n",
        "    log_level='error'\n",
        ")\n",
        "lgb_full.fit(X_train_pre, y_train)\n",
        "\n",
        "# Sort importances\n",
        "importances = pd.Series(lgb_full.feature_importances_, index=feature_names)\n",
        "top10 = importances.sort_values(ascending=False).head(10)\n",
        "\n",
        "print(\"Top 10 features by importance (with Attendance):\")\n",
        "print(top10)\n",
        "\n",
        "# Plot\n",
        "plt.figure(figsize=(6,4))\n",
        "top10.sort_values().plot(kind='barh')\n",
        "plt.title(\"LightGBM Feature Importances (With Attendance)\")\n",
        "plt.xlabel(\"Importance\")\n",
        "plt.tight_layout()\n",
        "plt.show()\n"
      ],
      "metadata": {
        "colab": {
          "base_uri": "https://localhost:8080/",
          "height": 368
        },
        "id": "fTB_nhn1Bwy-",
        "outputId": "8f64b6a7-fe0f-45a1-c6e4-4090ef3b0b73"
      },
      "execution_count": 16,
      "outputs": [
        {
          "output_type": "stream",
          "name": "stderr",
          "text": [
            "/usr/local/lib/python3.11/dist-packages/sklearn/utils/deprecation.py:151: FutureWarning: 'force_all_finite' was renamed to 'ensure_all_finite' in 1.6 and will be removed in 1.8.\n",
            "  warnings.warn(\n"
          ]
        },
        {
          "output_type": "stream",
          "name": "stdout",
          "text": [
            "Top 10 features by importance (with Attendance):\n",
            "Attendance                         2243\n",
            "Year_Year 7                         515\n",
            "Ethnicity_White - White British     478\n",
            "FSM_FSM_Eligible                    406\n",
            "SEN_No SEN                          344\n",
            "Ethnicity_Black - Black African     324\n",
            "Year_Year 10                        243\n",
            "Gender_Female                       232\n",
            "Year_Year 8                         217\n",
            "Ethnicity_Unclassified              168\n",
            "dtype: int32\n"
          ]
        },
        {
          "output_type": "display_data",
          "data": {
            "text/plain": [
              "<Figure size 600x400 with 1 Axes>"
            ],
            "image/png": "[encoded data removed]"
          },
          "metadata": {}
        }
      ]
    },
    {
      "cell_type": "code",
      "source": [
        "# Box‐plot of attendance by CIN class\n",
        "sns.boxplot(x=df['CIN'], y=df['Attendance'])\n",
        "plt.title(\"Attendance Distribution by CIN Status\")\n",
        "plt.show()\n",
        "\n",
        "# Group means\n",
        "print(df.groupby('CIN')['Attendance'].describe())\n"
      ],
      "metadata": {
        "id": "WS-fr1BhEbPj",
        "colab": {
          "base_uri": "https://localhost:8080/",
          "height": 258
        },
        "outputId": "43fa59aa-e5ed-4c31-b394-1ec369b15f3a"
      },
      "execution_count": 17,
      "outputs": [
        {
          "output_type": "display_data",
          "data": {
            "text/plain": [
              "<Figure size 640x480 with 1 Axes>"
            ],
            "image/png": "[encoded data removed]"
          },
          "metadata": {}
        },
        {
          "output_type": "stream",
          "name": "stdout",
          "text": [
            "          count       mean       std        min        25%        50%  \\\n",
            "CIN                                                                     \n",
            "CIN      1445.0  74.100000  5.684577  59.545879  70.006984  73.463811   \n",
            "No CIN  39889.0  91.763943  3.202886  75.861024  89.906444  92.641610   \n",
            "\n",
            "              75%         max  \n",
            "CIN                            \n",
            "CIN     77.806489   93.930498  \n",
            "No CIN  94.112618  100.000000  \n"
          ]
        }
      ]
    },
    {
      "cell_type": "markdown",
      "source": [
        "### Feature Importance Comments"
      ],
      "metadata": {
        "id": "Smh0URq1EmEr"
      }
    },
    {
      "cell_type": "markdown",
      "source": [
        "The bar chart makes it abundantly clear that attendance is the single strongest driver of the model's performance. All other demographic and categorical attributes - while not irrelevant - are overshadowed. This confirms the concern around single attribute reliance. To obtain a realistic model that truly learns from student characteristics rather than a proxy for CIN status, we must drop Attendance and repeat our modeling pipeline on the reduced feature set."
      ],
      "metadata": {
        "id": "Q8mK2I6GPBB0"
      }
    },
    {
      "cell_type": "markdown",
      "source": [
        "# Model Investigation (without Attendance)"
      ],
      "metadata": {
        "id": "yIiWvR8Rv3BI"
      }
    },
    {
      "cell_type": "markdown",
      "source": [
        "As decided above, attendance is dropped before repeating the process."
      ],
      "metadata": {
        "id": "VMKWpKpxyCg9"
      }
    },
    {
      "cell_type": "code",
      "source": [
        "student_synth_df = student_synth_df.drop(columns=['Attendance'])"
      ],
      "metadata": {
        "id": "FMyL0aIoyCya"
      },
      "execution_count": 18,
      "outputs": []
    },
    {
      "cell_type": "markdown",
      "source": [
        "## Establishing a Baseline"
      ],
      "metadata": {
        "id": "UxnhiQpWv7QX"
      }
    },
    {
      "cell_type": "markdown",
      "source": [
        "Here, a baseline model is established using scikit-learn's `DummyClassifier` to establish a simple perfomance floor."
      ],
      "metadata": {
        "id": "C47P-SZNv7Qa"
      }
    },
    {
      "cell_type": "code",
      "source": [
        "# Features and target\n",
        "X = student_synth_df.drop(columns=['CIN'])\n",
        "y = student_synth_df['CIN']\n",
        "\n",
        "# Stratified random guessing baseline\n",
        "dummy = DummyClassifier(strategy=\"stratified\", random_state=42)\n",
        "scores = cross_val_score(dummy, X, y, cv=5, scoring=\"accuracy\")\n",
        "\n",
        "print(f\"DummyClassifier: {scores.mean():.3f}\")"
      ],
      "metadata": {
        "id": "TCqG8Blzv7Qb",
        "colab": {
          "base_uri": "https://localhost:8080/"
        },
        "outputId": "e588f062-472e-43dd-dc8c-52e4eadac746"
      },
      "execution_count": 19,
      "outputs": [
        {
          "output_type": "stream",
          "name": "stdout",
          "text": [
            "DummyClassifier: 0.934\n"
          ]
        }
      ]
    },
    {
      "cell_type": "code",
      "source": [
        "dummy.fit(X, y)\n",
        "y_pred = dummy.predict(X)\n",
        "y_proba = dummy.predict_proba(X)[:,1]  # for ROC-AUC\n",
        "\n",
        "print(\"Accuracy: \", (y_pred == y).mean())\n",
        "print(\"Balanced accuracy: \", balanced_accuracy_score(y, y_pred))\n",
        "print(\"ROC-AUC: \", roc_auc_score(y.map({'No CIN':0,'CIN':1}), y_proba))\n",
        "print(\"Confusion matrix:\\n\", confusion_matrix(y, y_pred))\n"
      ],
      "metadata": {
        "id": "P8vRZRaDv7Qe",
        "colab": {
          "base_uri": "https://localhost:8080/"
        },
        "outputId": "16c69d84-0cc7-4f09-bc5d-eabb2b3968e0"
      },
      "execution_count": 20,
      "outputs": [
        {
          "output_type": "stream",
          "name": "stdout",
          "text": [
            "Accuracy:  0.9332268834373639\n",
            "Balanced accuracy:  0.5075277493660826\n",
            "ROC-AUC:  0.4924722506339174\n",
            "Confusion matrix:\n",
            " [[   72  1373]\n",
            " [ 1387 38502]]\n"
          ]
        }
      ]
    },
    {
      "cell_type": "markdown",
      "source": [
        "### Evaluation of Baseline Model"
      ],
      "metadata": {
        "id": "ZEgdC3Wtv7Qg"
      }
    },
    {
      "cell_type": "markdown",
      "source": [
        "Running our stratified `DummyClassifier`, we observe:\n",
        "\n",
        "- **Accuracy**: 0.937  \n",
        "  This high value largely reflects class imbalance (most students are “No CIN”).  \n",
        "- **Balanced Accuracy**: 0.505\n",
        "  Indicates the model is no better than random when accounting for both classes equally.  \n",
        "- **ROC-AUC**: 0.500  \n",
        "  Confirms that our dummy model has zero discriminative power.  "
      ],
      "metadata": {
        "id": "T0XUIYV0v7Qg"
      }
    },
    {
      "cell_type": "markdown",
      "source": [
        "## Investigate different models"
      ],
      "metadata": {
        "id": "bvMvxiNFwAlO"
      }
    },
    {
      "cell_type": "markdown",
      "source": [
        "### Prepare Data"
      ],
      "metadata": {
        "id": "dihIxE-RwAlT"
      }
    },
    {
      "cell_type": "code",
      "source": [
        "df = student_synth_df.copy()\n",
        "\n",
        "# X/y split\n",
        "X = df.drop(columns=['CIN'])\n",
        "y = df['CIN'].map({'No CIN': 0, 'CIN': 1})\n",
        "\n",
        "X_train, X_test, y_train, y_test = train_test_split(\n",
        "    X, y, test_size=0.2, stratify=y, random_state=42\n",
        ")\n",
        "\n",
        "# Categorical vs numeric\n",
        "cat_cols = ['Year', 'Gender', 'Ethnicity', 'FSM', 'SEN']\n",
        "\n",
        "# Encoders on training set\n",
        "ohe = OneHotEncoder(handle_unknown='ignore', sparse_output=False)\n",
        "ohe.fit(X_train[cat_cols])\n",
        "\n",
        "# Transform train and test\n",
        "X_train_enc = pd.DataFrame(ohe.transform(X_train[cat_cols]),\n",
        "                           columns=ohe.get_feature_names_out(cat_cols),\n",
        "                           index=X_train.index)\n",
        "X_test_enc  = pd.DataFrame(ohe.transform(X_test[cat_cols]),\n",
        "                           columns=ohe.get_feature_names_out(cat_cols),\n",
        "                           index=X_test.index)\n",
        "\n",
        "# Final arrays\n",
        "X_train_pre = X_train_enc.values\n",
        "X_test_pre  = X_test_enc.values"
      ],
      "metadata": {
        "id": "lwkurs_twAlV"
      },
      "execution_count": 21,
      "outputs": []
    },
    {
      "cell_type": "code",
      "source": [
        "# Initialize an empty results DataFrame\n",
        "results_df = pd.DataFrame(columns=[\n",
        "    'Model', 'Accuracy', 'Precision', 'Recall', 'F1', 'ROC-AUC', 'PR-AUC'\n",
        "])\n",
        "\n",
        "\n",
        "# Function to fit and evuate models\n",
        "def eval_model(name, model):\n",
        "    # Fit & predict\n",
        "    model.fit(X_train_pre, y_train)\n",
        "    y_pred = model.predict(X_test_pre)\n",
        "    y_proba = model.predict_proba(X_test_pre)[:, 1]\n",
        "\n",
        "    # Compute metrics\n",
        "    acc     = accuracy_score(y_test, y_pred)\n",
        "    prec    = precision_score(y_test, y_pred)\n",
        "    rec     = recall_score(y_test, y_pred)\n",
        "    f1      = f1_score(y_test, y_pred)\n",
        "    roc     = roc_auc_score(y_test, y_proba)\n",
        "    pr, rc, _ = precision_recall_curve(y_test, y_proba)\n",
        "    pr_auc  = auc(rc, pr)\n",
        "\n",
        "    # Append to results DataFrame\n",
        "    global results_df\n",
        "    results_df.loc[len(results_df)] = [\n",
        "        name, acc, prec, rec, f1, roc, pr_auc\n",
        "    ]\n",
        "\n",
        "    # Display\n",
        "    display(results_df.sort_values('ROC-AUC', ascending=False))"
      ],
      "metadata": {
        "id": "3oZ8IiNPwAlW"
      },
      "execution_count": 22,
      "outputs": []
    },
    {
      "cell_type": "markdown",
      "source": [
        "### Random Forest"
      ],
      "metadata": {
        "id": "JZzNoI_LwAlX"
      }
    },
    {
      "cell_type": "code",
      "source": [
        "eval_model(\n",
        "    'RandomForest',\n",
        "    RandomForestClassifier(n_estimators=200, class_weight='balanced', random_state=42)\n",
        ")"
      ],
      "metadata": {
        "id": "sPpV61powAlX",
        "colab": {
          "base_uri": "https://localhost:8080/",
          "height": 142
        },
        "outputId": "8aa4d180-5f59-4982-ca78-9b12a25f869b"
      },
      "execution_count": 23,
      "outputs": [
        {
          "output_type": "display_data",
          "data": {
            "text/plain": [
              "          Model  Accuracy  Precision    Recall       F1   ROC-AUC    PR-AUC\n",
              "0  RandomForest  0.801137   0.115712  0.705882  0.19883  0.811567  0.233206"
            ],
            "text/html": [
              "\n",
              "  <div id=\"df-865a1ca8-7d51-48b6-8905-808c8276db9c\" class=\"colab-df-container\">\n",
              "    <div>\n",
              "<style scoped>\n",
              "    .dataframe tbody tr th:only-of-type {\n",
              "        vertical-align: middle;\n",
              "    }\n",
              "\n",
              "    .dataframe tbody tr th {\n",
              "        vertical-align: top;\n",
              "    }\n",
              "\n",
              "    .dataframe thead th {\n",
              "        text-align: right;\n",
              "    }\n",
              "</style>\n",
              "<table border=\"1\" class=\"dataframe\">\n",
              "  <thead>\n",
              "    <tr style=\"text-align: right;\">\n",
              "      <th></th>\n",
              "      <th>Model</th>\n",
              "      <th>Accuracy</th>\n",
              "      <th>Precision</th>\n",
              "      <th>Recall</th>\n",
              "      <th>F1</th>\n",
              "      <th>ROC-AUC</th>\n",
              "      <th>PR-AUC</th>\n",
              "    </tr>\n",
              "  </thead>\n",
              "  <tbody>\n",
              "    <tr>\n",
              "      <th>0</th>\n",
              "      <td>RandomForest</td>\n",
              "      <td>0.801137</td>\n",
              "      <td>0.115712</td>\n",
              "      <td>0.705882</td>\n",
              "      <td>0.19883</td>\n",
              "      <td>0.811567</td>\n",
              "      <td>0.233206</td>\n",
              "    </tr>\n",
              "  </tbody>\n",
              "</table>\n",
              "</div>\n",
              "    <div class=\"colab-df-buttons\">\n",
              "\n",
              "  <div class=\"colab-df-container\">\n",
              "    <button class=\"colab-df-convert\" onclick=\"convertToInteractive('df-865a1ca8-7d51-48b6-8905-808c8276db9c')\"\n",
              "            title=\"Convert this dataframe to an interactive table.\"\n",
              "            style=\"display:none;\">\n",
              "\n",
              "  <svg xmlns=\"http://www.w3.org/2000/svg\" height=\"24px\" viewBox=\"0 -960 960 960\">\n",
              "    <path d=\"M120-120v-720h720v720H120Zm60-500h600v-160H180v160Zm220 220h160v-160H400v160Zm0 220h160v-160H400v160ZM180-400h160v-160H180v160Zm440 0h160v-160H620v160ZM180-180h160v-160H180v160Zm440 0h160v-160H620v160Z\"/>\n",
              "  </svg>\n",
              "    </button>\n",
              "\n",
              "  <style>\n",
              "    .colab-df-container {\n",
              "      display:flex;\n",
              "      gap: 12px;\n",
              "    }\n",
              "\n",
              "    .colab-df-convert {\n",
              "      background-color: #E8F0FE;\n",
              "      border: none;\n",
              "      border-radius: 50%;\n",
              "      cursor: pointer;\n",
              "      display: none;\n",
              "      fill: #1967D2;\n",
              "      height: 32px;\n",
              "      padding: 0 0 0 0;\n",
              "      width: 32px;\n",
              "    }\n",
              "\n",
              "    .colab-df-convert:hover {\n",
              "      background-color: #E2EBFA;\n",
              "      box-shadow: 0px 1px 2px rgba(60, 64, 67, 0.3), 0px 1px 3px 1px rgba(60, 64, 67, 0.15);\n",
              "      fill: #174EA6;\n",
              "    }\n",
              "\n",
              "    .colab-df-buttons div {\n",
              "      margin-bottom: 4px;\n",
              "    }\n",
              "\n",
              "    [theme=dark] .colab-df-convert {\n",
              "      background-color: #3B4455;\n",
              "      fill: #D2E3FC;\n",
              "    }\n",
              "\n",
              "    [theme=dark] .colab-df-convert:hover {\n",
              "      background-color: #434B5C;\n",
              "      box-shadow: 0px 1px 3px 1px rgba(0, 0, 0, 0.15);\n",
              "      filter: drop-shadow(0px 1px 2px rgba(0, 0, 0, 0.3));\n",
              "      fill: #FFFFFF;\n",
              "    }\n",
              "  </style>\n",
              "\n",
              "    <script>\n",
              "      const buttonEl =\n",
              "        document.querySelector('#df-865a1ca8-7d51-48b6-8905-808c8276db9c button.colab-df-convert');\n",
              "      buttonEl.style.display =\n",
              "        google.colab.kernel.accessAllowed ? 'block' : 'none';\n",
              "\n",
              "      async function convertToInteractive(key) {\n",
              "        const element = document.querySelector('#df-865a1ca8-7d51-48b6-8905-808c8276db9c');\n",
              "        const dataTable =\n",
              "          await google.colab.kernel.invokeFunction('convertToInteractive',\n",
              "                                                    [key], {});\n",
              "        if (!dataTable) return;\n",
              "\n",
              "        const docLinkHtml = 'Like what you see? Visit the ' +\n",
              "          '<a target=\"_blank\" href=https://colab.research.google.com/notebooks/data_table.ipynb>data table notebook</a>'\n",
              "          + ' to learn more about interactive tables.';\n",
              "        element.innerHTML = '';\n",
              "        dataTable['output_type'] = 'display_data';\n",
              "        await google.colab.output.renderOutput(dataTable, element);\n",
              "        const docLink = document.createElement('div');\n",
              "        docLink.innerHTML = docLinkHtml;\n",
              "        element.appendChild(docLink);\n",
              "      }\n",
              "    </script>\n",
              "  </div>\n",
              "\n",
              "\n",
              "    </div>\n",
              "  </div>\n"
            ],
            "application/vnd.google.colaboratory.intrinsic+json": {
              "type": "dataframe",
              "summary": "{\n  \"name\": \")\",\n  \"rows\": 1,\n  \"fields\": [\n    {\n      \"column\": \"Model\",\n      \"properties\": {\n        \"dtype\": \"string\",\n        \"num_unique_values\": 1,\n        \"samples\": [\n          \"RandomForest\"\n        ],\n        \"semantic_type\": \"\",\n        \"description\": \"\"\n      }\n    },\n    {\n      \"column\": \"Accuracy\",\n      \"properties\": {\n        \"dtype\": \"number\",\n        \"std\": null,\n        \"min\": 0.8011370509253659,\n        \"max\": 0.8011370509253659,\n        \"num_unique_values\": 1,\n        \"samples\": [\n          0.8011370509253659\n        ],\n        \"semantic_type\": \"\",\n        \"description\": \"\"\n      }\n    },\n    {\n      \"column\": \"Precision\",\n      \"properties\": {\n        \"dtype\": \"number\",\n        \"std\": null,\n        \"min\": 0.11571185479296653,\n        \"max\": 0.11571185479296653,\n        \"num_unique_values\": 1,\n        \"samples\": [\n          0.11571185479296653\n        ],\n        \"semantic_type\": \"\",\n        \"description\": \"\"\n      }\n    },\n    {\n      \"column\": \"Recall\",\n      \"properties\": {\n        \"dtype\": \"number\",\n        \"std\": null,\n        \"min\": 0.7058823529411765,\n        \"max\": 0.7058823529411765,\n        \"num_unique_values\": 1,\n        \"samples\": [\n          0.7058823529411765\n        ],\n        \"semantic_type\": \"\",\n        \"description\": \"\"\n      }\n    },\n    {\n      \"column\": \"F1\",\n      \"properties\": {\n        \"dtype\": \"number\",\n        \"std\": null,\n        \"min\": 0.19883040935672514,\n        \"max\": 0.19883040935672514,\n        \"num_unique_values\": 1,\n        \"samples\": [\n          0.19883040935672514\n        ],\n        \"semantic_type\": \"\",\n        \"description\": \"\"\n      }\n    },\n    {\n      \"column\": \"ROC-AUC\",\n      \"properties\": {\n        \"dtype\": \"number\",\n        \"std\": null,\n        \"min\": 0.8115672337682953,\n        \"max\": 0.8115672337682953,\n        \"num_unique_values\": 1,\n        \"samples\": [\n          0.8115672337682953\n        ],\n        \"semantic_type\": \"\",\n        \"description\": \"\"\n      }\n    },\n    {\n      \"column\": \"PR-AUC\",\n      \"properties\": {\n        \"dtype\": \"number\",\n        \"std\": null,\n        \"min\": 0.23320575367646765,\n        \"max\": 0.23320575367646765,\n        \"num_unique_values\": 1,\n        \"samples\": [\n          0.23320575367646765\n        ],\n        \"semantic_type\": \"\",\n        \"description\": \"\"\n      }\n    }\n  ]\n}"
            }
          },
          "metadata": {}
        }
      ]
    },
    {
      "cell_type": "markdown",
      "source": [
        "### LightGBM"
      ],
      "metadata": {
        "id": "xj51PUA-wAlY"
      }
    },
    {
      "cell_type": "code",
      "source": [
        "eval_model(\n",
        "    'LightGBM',\n",
        "    LGBMClassifier(n_estimators=300, is_unbalance=True, random_state=42, verbose=-1,log_level='error' )\n",
        ")"
      ],
      "metadata": {
        "id": "ltU77aD7wAlZ",
        "colab": {
          "base_uri": "https://localhost:8080/",
          "height": 314
        },
        "outputId": "8872c8ff-3e28-48f7-e233-35e752d878e8"
      },
      "execution_count": 24,
      "outputs": [
        {
          "output_type": "stream",
          "name": "stderr",
          "text": [
            "/usr/local/lib/python3.11/dist-packages/sklearn/utils/deprecation.py:151: FutureWarning: 'force_all_finite' was renamed to 'ensure_all_finite' in 1.6 and will be removed in 1.8.\n",
            "  warnings.warn(\n",
            "/usr/local/lib/python3.11/dist-packages/sklearn/utils/deprecation.py:151: FutureWarning: 'force_all_finite' was renamed to 'ensure_all_finite' in 1.6 and will be removed in 1.8.\n",
            "  warnings.warn(\n",
            "/usr/local/lib/python3.11/dist-packages/sklearn/utils/deprecation.py:151: FutureWarning: 'force_all_finite' was renamed to 'ensure_all_finite' in 1.6 and will be removed in 1.8.\n",
            "  warnings.warn(\n"
          ]
        },
        {
          "output_type": "display_data",
          "data": {
            "text/plain": [
              "          Model  Accuracy  Precision    Recall        F1   ROC-AUC    PR-AUC\n",
              "1      LightGBM  0.800895   0.120738  0.747405  0.207892  0.845773  0.314178\n",
              "0  RandomForest  0.801137   0.115712  0.705882  0.198830  0.811567  0.233206"
            ],
            "text/html": [
              "\n",
              "  <div id=\"df-4580854b-b57c-479f-af11-d5da10165f33\" class=\"colab-df-container\">\n",
              "    <div>\n",
              "<style scoped>\n",
              "    .dataframe tbody tr th:only-of-type {\n",
              "        vertical-align: middle;\n",
              "    }\n",
              "\n",
              "    .dataframe tbody tr th {\n",
              "        vertical-align: top;\n",
              "    }\n",
              "\n",
              "    .dataframe thead th {\n",
              "        text-align: right;\n",
              "    }\n",
              "</style>\n",
              "<table border=\"1\" class=\"dataframe\">\n",
              "  <thead>\n",
              "    <tr style=\"text-align: right;\">\n",
              "      <th></th>\n",
              "      <th>Model</th>\n",
              "      <th>Accuracy</th>\n",
              "      <th>Precision</th>\n",
              "      <th>Recall</th>\n",
              "      <th>F1</th>\n",
              "      <th>ROC-AUC</th>\n",
              "      <th>PR-AUC</th>\n",
              "    </tr>\n",
              "  </thead>\n",
              "  <tbody>\n",
              "    <tr>\n",
              "      <th>1</th>\n",
              "      <td>LightGBM</td>\n",
              "      <td>0.800895</td>\n",
              "      <td>0.120738</td>\n",
              "      <td>0.747405</td>\n",
              "      <td>0.207892</td>\n",
              "      <td>0.845773</td>\n",
              "      <td>0.314178</td>\n",
              "    </tr>\n",
              "    <tr>\n",
              "      <th>0</th>\n",
              "      <td>RandomForest</td>\n",
              "      <td>0.801137</td>\n",
              "      <td>0.115712</td>\n",
              "      <td>0.705882</td>\n",
              "      <td>0.198830</td>\n",
              "      <td>0.811567</td>\n",
              "      <td>0.233206</td>\n",
              "    </tr>\n",
              "  </tbody>\n",
              "</table>\n",
              "</div>\n",
              "    <div class=\"colab-df-buttons\">\n",
              "\n",
              "  <div class=\"colab-df-container\">\n",
              "    <button class=\"colab-df-convert\" onclick=\"convertToInteractive('df-4580854b-b57c-479f-af11-d5da10165f33')\"\n",
              "            title=\"Convert this dataframe to an interactive table.\"\n",
              "            style=\"display:none;\">\n",
              "\n",
              "  <svg xmlns=\"http://www.w3.org/2000/svg\" height=\"24px\" viewBox=\"0 -960 960 960\">\n",
              "    <path d=\"M120-120v-720h720v720H120Zm60-500h600v-160H180v160Zm220 220h160v-160H400v160Zm0 220h160v-160H400v160ZM180-400h160v-160H180v160Zm440 0h160v-160H620v160ZM180-180h160v-160H180v160Zm440 0h160v-160H620v160Z\"/>\n",
              "  </svg>\n",
              "    </button>\n",
              "\n",
              "  <style>\n",
              "    .colab-df-container {\n",
              "      display:flex;\n",
              "      gap: 12px;\n",
              "    }\n",
              "\n",
              "    .colab-df-convert {\n",
              "      background-color: #E8F0FE;\n",
              "      border: none;\n",
              "      border-radius: 50%;\n",
              "      cursor: pointer;\n",
              "      display: none;\n",
              "      fill: #1967D2;\n",
              "      height: 32px;\n",
              "      padding: 0 0 0 0;\n",
              "      width: 32px;\n",
              "    }\n",
              "\n",
              "    .colab-df-convert:hover {\n",
              "      background-color: #E2EBFA;\n",
              "      box-shadow: 0px 1px 2px rgba(60, 64, 67, 0.3), 0px 1px 3px 1px rgba(60, 64, 67, 0.15);\n",
              "      fill: #174EA6;\n",
              "    }\n",
              "\n",
              "    .colab-df-buttons div {\n",
              "      margin-bottom: 4px;\n",
              "    }\n",
              "\n",
              "    [theme=dark] .colab-df-convert {\n",
              "      background-color: #3B4455;\n",
              "      fill: #D2E3FC;\n",
              "    }\n",
              "\n",
              "    [theme=dark] .colab-df-convert:hover {\n",
              "      background-color: #434B5C;\n",
              "      box-shadow: 0px 1px 3px 1px rgba(0, 0, 0, 0.15);\n",
              "      filter: drop-shadow(0px 1px 2px rgba(0, 0, 0, 0.3));\n",
              "      fill: #FFFFFF;\n",
              "    }\n",
              "  </style>\n",
              "\n",
              "    <script>\n",
              "      const buttonEl =\n",
              "        document.querySelector('#df-4580854b-b57c-479f-af11-d5da10165f33 button.colab-df-convert');\n",
              "      buttonEl.style.display =\n",
              "        google.colab.kernel.accessAllowed ? 'block' : 'none';\n",
              "\n",
              "      async function convertToInteractive(key) {\n",
              "        const element = document.querySelector('#df-4580854b-b57c-479f-af11-d5da10165f33');\n",
              "        const dataTable =\n",
              "          await google.colab.kernel.invokeFunction('convertToInteractive',\n",
              "                                                    [key], {});\n",
              "        if (!dataTable) return;\n",
              "\n",
              "        const docLinkHtml = 'Like what you see? Visit the ' +\n",
              "          '<a target=\"_blank\" href=https://colab.research.google.com/notebooks/data_table.ipynb>data table notebook</a>'\n",
              "          + ' to learn more about interactive tables.';\n",
              "        element.innerHTML = '';\n",
              "        dataTable['output_type'] = 'display_data';\n",
              "        await google.colab.output.renderOutput(dataTable, element);\n",
              "        const docLink = document.createElement('div');\n",
              "        docLink.innerHTML = docLinkHtml;\n",
              "        element.appendChild(docLink);\n",
              "      }\n",
              "    </script>\n",
              "  </div>\n",
              "\n",
              "\n",
              "    <div id=\"df-03843616-caa5-48c2-8577-cf15af3ed532\">\n",
              "      <button class=\"colab-df-quickchart\" onclick=\"quickchart('df-03843616-caa5-48c2-8577-cf15af3ed532')\"\n",
              "                title=\"Suggest charts\"\n",
              "                style=\"display:none;\">\n",
              "\n",
              "<svg xmlns=\"http://www.w3.org/2000/svg\" height=\"24px\"viewBox=\"0 0 24 24\"\n",
              "     width=\"24px\">\n",
              "    <g>\n",
              "        <path d=\"M19 3H5c-1.1 0-2 .9-2 2v14c0 1.1.9 2 2 2h14c1.1 0 2-.9 2-2V5c0-1.1-.9-2-2-2zM9 17H7v-7h2v7zm4 0h-2V7h2v10zm4 0h-2v-4h2v4z\"/>\n",
              "    </g>\n",
              "</svg>\n",
              "      </button>\n",
              "\n",
              "<style>\n",
              "  .colab-df-quickchart {\n",
              "      --bg-color: #E8F0FE;\n",
              "      --fill-color: #1967D2;\n",
              "      --hover-bg-color: #E2EBFA;\n",
              "      --hover-fill-color: #174EA6;\n",
              "      --disabled-fill-color: #AAA;\n",
              "      --disabled-bg-color: #DDD;\n",
              "  }\n",
              "\n",
              "  [theme=dark] .colab-df-quickchart {\n",
              "      --bg-color: #3B4455;\n",
              "      --fill-color: #D2E3FC;\n",
              "      --hover-bg-color: #434B5C;\n",
              "      --hover-fill-color: #FFFFFF;\n",
              "      --disabled-bg-color: #3B4455;\n",
              "      --disabled-fill-color: #666;\n",
              "  }\n",
              "\n",
              "  .colab-df-quickchart {\n",
              "    background-color: var(--bg-color);\n",
              "    border: none;\n",
              "    border-radius: 50%;\n",
              "    cursor: pointer;\n",
              "    display: none;\n",
              "    fill: var(--fill-color);\n",
              "    height: 32px;\n",
              "    padding: 0;\n",
              "    width: 32px;\n",
              "  }\n",
              "\n",
              "  .colab-df-quickchart:hover {\n",
              "    background-color: var(--hover-bg-color);\n",
              "    box-shadow: 0 1px 2px rgba(60, 64, 67, 0.3), 0 1px 3px 1px rgba(60, 64, 67, 0.15);\n",
              "    fill: var(--button-hover-fill-color);\n",
              "  }\n",
              "\n",
              "  .colab-df-quickchart-complete:disabled,\n",
              "  .colab-df-quickchart-complete:disabled:hover {\n",
              "    background-color: var(--disabled-bg-color);\n",
              "    fill: var(--disabled-fill-color);\n",
              "    box-shadow: none;\n",
              "  }\n",
              "\n",
              "  .colab-df-spinner {\n",
              "    border: 2px solid var(--fill-color);\n",
              "    border-color: transparent;\n",
              "    border-bottom-color: var(--fill-color);\n",
              "    animation:\n",
              "      spin 1s steps(1) infinite;\n",
              "  }\n",
              "\n",
              "  @keyframes spin {\n",
              "    0% {\n",
              "      border-color: transparent;\n",
              "      border-bottom-color: var(--fill-color);\n",
              "      border-left-color: var(--fill-color);\n",
              "    }\n",
              "    20% {\n",
              "      border-color: transparent;\n",
              "      border-left-color: var(--fill-color);\n",
              "      border-top-color: var(--fill-color);\n",
              "    }\n",
              "    30% {\n",
              "      border-color: transparent;\n",
              "      border-left-color: var(--fill-color);\n",
              "      border-top-color: var(--fill-color);\n",
              "      border-right-color: var(--fill-color);\n",
              "    }\n",
              "    40% {\n",
              "      border-color: transparent;\n",
              "      border-right-color: var(--fill-color);\n",
              "      border-top-color: var(--fill-color);\n",
              "    }\n",
              "    60% {\n",
              "      border-color: transparent;\n",
              "      border-right-color: var(--fill-color);\n",
              "    }\n",
              "    80% {\n",
              "      border-color: transparent;\n",
              "      border-right-color: var(--fill-color);\n",
              "      border-bottom-color: var(--fill-color);\n",
              "    }\n",
              "    90% {\n",
              "      border-color: transparent;\n",
              "      border-bottom-color: var(--fill-color);\n",
              "    }\n",
              "  }\n",
              "</style>\n",
              "\n",
              "      <script>\n",
              "        async function quickchart(key) {\n",
              "          const quickchartButtonEl =\n",
              "            document.querySelector('#' + key + ' button');\n",
              "          quickchartButtonEl.disabled = true;  // To prevent multiple clicks.\n",
              "          quickchartButtonEl.classList.add('colab-df-spinner');\n",
              "          try {\n",
              "            const charts = await google.colab.kernel.invokeFunction(\n",
              "                'suggestCharts', [key], {});\n",
              "          } catch (error) {\n",
              "            console.error('Error during call to suggestCharts:', error);\n",
              "          }\n",
              "          quickchartButtonEl.classList.remove('colab-df-spinner');\n",
              "          quickchartButtonEl.classList.add('colab-df-quickchart-complete');\n",
              "        }\n",
              "        (() => {\n",
              "          let quickchartButtonEl =\n",
              "            document.querySelector('#df-03843616-caa5-48c2-8577-cf15af3ed532 button');\n",
              "          quickchartButtonEl.style.display =\n",
              "            google.colab.kernel.accessAllowed ? 'block' : 'none';\n",
              "        })();\n",
              "      </script>\n",
              "    </div>\n",
              "\n",
              "    </div>\n",
              "  </div>\n"
            ],
            "application/vnd.google.colaboratory.intrinsic+json": {
              "type": "dataframe",
              "summary": "{\n  \"name\": \")\",\n  \"rows\": 2,\n  \"fields\": [\n    {\n      \"column\": \"Model\",\n      \"properties\": {\n        \"dtype\": \"string\",\n        \"num_unique_values\": 2,\n        \"samples\": [\n          \"RandomForest\",\n          \"LightGBM\"\n        ],\n        \"semantic_type\": \"\",\n        \"description\": \"\"\n      }\n    },\n    {\n      \"column\": \"Accuracy\",\n      \"properties\": {\n        \"dtype\": \"number\",\n        \"std\": 0.00017106732337883874,\n        \"min\": 0.8008951251965647,\n        \"max\": 0.8011370509253659,\n        \"num_unique_values\": 2,\n        \"samples\": [\n          0.8011370509253659,\n          0.8008951251965647\n        ],\n        \"semantic_type\": \"\",\n        \"description\": \"\"\n      }\n    },\n    {\n      \"column\": \"Precision\",\n      \"properties\": {\n        \"dtype\": \"number\",\n        \"std\": 0.0035539098979073766,\n        \"min\": 0.11571185479296653,\n        \"max\": 0.12073784237003912,\n        \"num_unique_values\": 2,\n        \"samples\": [\n          0.11571185479296653,\n          0.12073784237003912\n        ],\n        \"semantic_type\": \"\",\n        \"description\": \"\"\n      }\n    },\n    {\n      \"column\": \"Recall\",\n      \"properties\": {\n        \"dtype\": \"number\",\n        \"std\": 0.02936083520497773,\n        \"min\": 0.7058823529411765,\n        \"max\": 0.7474048442906575,\n        \"num_unique_values\": 2,\n        \"samples\": [\n          0.7058823529411765,\n          0.7474048442906575\n        ],\n        \"semantic_type\": \"\",\n        \"description\": \"\"\n      }\n    },\n    {\n      \"column\": \"F1\",\n      \"properties\": {\n        \"dtype\": \"number\",\n        \"std\": 0.006407656471924429,\n        \"min\": 0.19883040935672514,\n        \"max\": 0.2078922040423484,\n        \"num_unique_values\": 2,\n        \"samples\": [\n          0.19883040935672514,\n          0.2078922040423484\n        ],\n        \"semantic_type\": \"\",\n        \"description\": \"\"\n      }\n    },\n    {\n      \"column\": \"ROC-AUC\",\n      \"properties\": {\n        \"dtype\": \"number\",\n        \"std\": 0.024187205541210993,\n        \"min\": 0.8115672337682953,\n        \"max\": 0.8457731078805816,\n        \"num_unique_values\": 2,\n        \"samples\": [\n          0.8115672337682953,\n          0.8457731078805816\n        ],\n        \"semantic_type\": \"\",\n        \"description\": \"\"\n      }\n    },\n    {\n      \"column\": \"PR-AUC\",\n      \"properties\": {\n        \"dtype\": \"number\",\n        \"std\": 0.05725572423645225,\n        \"min\": 0.23320575367646765,\n        \"max\": 0.31417757541515234,\n        \"num_unique_values\": 2,\n        \"samples\": [\n          0.23320575367646765,\n          0.31417757541515234\n        ],\n        \"semantic_type\": \"\",\n        \"description\": \"\"\n      }\n    }\n  ]\n}"
            }
          },
          "metadata": {}
        }
      ]
    },
    {
      "cell_type": "markdown",
      "source": [
        "### XGBoost"
      ],
      "metadata": {
        "id": "-EAKRridwAlZ"
      }
    },
    {
      "cell_type": "code",
      "source": [
        "ratio = y_train.value_counts()[0] / y_train.value_counts()[1]\n",
        "eval_model(\n",
        "    'XGBoost',\n",
        "    XGBClassifier(\n",
        "        n_estimators=300,\n",
        "        scale_pos_weight=ratio,\n",
        "        use_label_encoder=False,\n",
        "        eval_metric='logloss',\n",
        "        random_state=42\n",
        "    )\n",
        ")"
      ],
      "metadata": {
        "id": "gL0C5jKnwAlZ",
        "colab": {
          "base_uri": "https://localhost:8080/",
          "height": 310
        },
        "outputId": "0a1f8167-822c-4153-86c4-e589de9b706d"
      },
      "execution_count": 25,
      "outputs": [
        {
          "output_type": "stream",
          "name": "stderr",
          "text": [
            "/usr/local/lib/python3.11/dist-packages/xgboost/core.py:158: UserWarning: [19:29:45] WARNING: /workspace/src/learner.cc:740: \n",
            "Parameters: { \"use_label_encoder\" } are not used.\n",
            "\n",
            "  warnings.warn(smsg, UserWarning)\n"
          ]
        },
        {
          "output_type": "display_data",
          "data": {
            "text/plain": [
              "          Model  Accuracy  Precision    Recall        F1   ROC-AUC    PR-AUC\n",
              "1      LightGBM  0.800895   0.120738  0.747405  0.207892  0.845773  0.314178\n",
              "2       XGBoost  0.788194   0.113636  0.743945  0.197157  0.834588  0.298837\n",
              "0  RandomForest  0.801137   0.115712  0.705882  0.198830  0.811567  0.233206"
            ],
            "text/html": [
              "\n",
              "  <div id=\"df-636147e7-7123-4cfe-a722-506ec70b0e46\" class=\"colab-df-container\">\n",
              "    <div>\n",
              "<style scoped>\n",
              "    .dataframe tbody tr th:only-of-type {\n",
              "        vertical-align: middle;\n",
              "    }\n",
              "\n",
              "    .dataframe tbody tr th {\n",
              "        vertical-align: top;\n",
              "    }\n",
              "\n",
              "    .dataframe thead th {\n",
              "        text-align: right;\n",
              "    }\n",
              "</style>\n",
              "<table border=\"1\" class=\"dataframe\">\n",
              "  <thead>\n",
              "    <tr style=\"text-align: right;\">\n",
              "      <th></th>\n",
              "      <th>Model</th>\n",
              "      <th>Accuracy</th>\n",
              "      <th>Precision</th>\n",
              "      <th>Recall</th>\n",
              "      <th>F1</th>\n",
              "      <th>ROC-AUC</th>\n",
              "      <th>PR-AUC</th>\n",
              "    </tr>\n",
              "  </thead>\n",
              "  <tbody>\n",
              "    <tr>\n",
              "      <th>1</th>\n",
              "      <td>LightGBM</td>\n",
              "      <td>0.800895</td>\n",
              "      <td>0.120738</td>\n",
              "      <td>0.747405</td>\n",
              "      <td>0.207892</td>\n",
              "      <td>0.845773</td>\n",
              "      <td>0.314178</td>\n",
              "    </tr>\n",
              "    <tr>\n",
              "      <th>2</th>\n",
              "      <td>XGBoost</td>\n",
              "      <td>0.788194</td>\n",
              "      <td>0.113636</td>\n",
              "      <td>0.743945</td>\n",
              "      <td>0.197157</td>\n",
              "      <td>0.834588</td>\n",
              "      <td>0.298837</td>\n",
              "    </tr>\n",
              "    <tr>\n",
              "      <th>0</th>\n",
              "      <td>RandomForest</td>\n",
              "      <td>0.801137</td>\n",
              "      <td>0.115712</td>\n",
              "      <td>0.705882</td>\n",
              "      <td>0.198830</td>\n",
              "      <td>0.811567</td>\n",
              "      <td>0.233206</td>\n",
              "    </tr>\n",
              "  </tbody>\n",
              "</table>\n",
              "</div>\n",
              "    <div class=\"colab-df-buttons\">\n",
              "\n",
              "  <div class=\"colab-df-container\">\n",
              "    <button class=\"colab-df-convert\" onclick=\"convertToInteractive('df-636147e7-7123-4cfe-a722-506ec70b0e46')\"\n",
              "            title=\"Convert this dataframe to an interactive table.\"\n",
              "            style=\"display:none;\">\n",
              "\n",
              "  <svg xmlns=\"http://www.w3.org/2000/svg\" height=\"24px\" viewBox=\"0 -960 960 960\">\n",
              "    <path d=\"M120-120v-720h720v720H120Zm60-500h600v-160H180v160Zm220 220h160v-160H400v160Zm0 220h160v-160H400v160ZM180-400h160v-160H180v160Zm440 0h160v-160H620v160ZM180-180h160v-160H180v160Zm440 0h160v-160H620v160Z\"/>\n",
              "  </svg>\n",
              "    </button>\n",
              "\n",
              "  <style>\n",
              "    .colab-df-container {\n",
              "      display:flex;\n",
              "      gap: 12px;\n",
              "    }\n",
              "\n",
              "    .colab-df-convert {\n",
              "      background-color: #E8F0FE;\n",
              "      border: none;\n",
              "      border-radius: 50%;\n",
              "      cursor: pointer;\n",
              "      display: none;\n",
              "      fill: #1967D2;\n",
              "      height: 32px;\n",
              "      padding: 0 0 0 0;\n",
              "      width: 32px;\n",
              "    }\n",
              "\n",
              "    .colab-df-convert:hover {\n",
              "      background-color: #E2EBFA;\n",
              "      box-shadow: 0px 1px 2px rgba(60, 64, 67, 0.3), 0px 1px 3px 1px rgba(60, 64, 67, 0.15);\n",
              "      fill: #174EA6;\n",
              "    }\n",
              "\n",
              "    .colab-df-buttons div {\n",
              "      margin-bottom: 4px;\n",
              "    }\n",
              "\n",
              "    [theme=dark] .colab-df-convert {\n",
              "      background-color: #3B4455;\n",
              "      fill: #D2E3FC;\n",
              "    }\n",
              "\n",
              "    [theme=dark] .colab-df-convert:hover {\n",
              "      background-color: #434B5C;\n",
              "      box-shadow: 0px 1px 3px 1px rgba(0, 0, 0, 0.15);\n",
              "      filter: drop-shadow(0px 1px 2px rgba(0, 0, 0, 0.3));\n",
              "      fill: #FFFFFF;\n",
              "    }\n",
              "  </style>\n",
              "\n",
              "    <script>\n",
              "      const buttonEl =\n",
              "        document.querySelector('#df-636147e7-7123-4cfe-a722-506ec70b0e46 button.colab-df-convert');\n",
              "      buttonEl.style.display =\n",
              "        google.colab.kernel.accessAllowed ? 'block' : 'none';\n",
              "\n",
              "      async function convertToInteractive(key) {\n",
              "        const element = document.querySelector('#df-636147e7-7123-4cfe-a722-506ec70b0e46');\n",
              "        const dataTable =\n",
              "          await google.colab.kernel.invokeFunction('convertToInteractive',\n",
              "                                                    [key], {});\n",
              "        if (!dataTable) return;\n",
              "\n",
              "        const docLinkHtml = 'Like what you see? Visit the ' +\n",
              "          '<a target=\"_blank\" href=https://colab.research.google.com/notebooks/data_table.ipynb>data table notebook</a>'\n",
              "          + ' to learn more about interactive tables.';\n",
              "        element.innerHTML = '';\n",
              "        dataTable['output_type'] = 'display_data';\n",
              "        await google.colab.output.renderOutput(dataTable, element);\n",
              "        const docLink = document.createElement('div');\n",
              "        docLink.innerHTML = docLinkHtml;\n",
              "        element.appendChild(docLink);\n",
              "      }\n",
              "    </script>\n",
              "  </div>\n",
              "\n",
              "\n",
              "    <div id=\"df-fe5180ce-a77d-4fc2-a2f8-4b759aec979f\">\n",
              "      <button class=\"colab-df-quickchart\" onclick=\"quickchart('df-fe5180ce-a77d-4fc2-a2f8-4b759aec979f')\"\n",
              "                title=\"Suggest charts\"\n",
              "                style=\"display:none;\">\n",
              "\n",
              "<svg xmlns=\"http://www.w3.org/2000/svg\" height=\"24px\"viewBox=\"0 0 24 24\"\n",
              "     width=\"24px\">\n",
              "    <g>\n",
              "        <path d=\"M19 3H5c-1.1 0-2 .9-2 2v14c0 1.1.9 2 2 2h14c1.1 0 2-.9 2-2V5c0-1.1-.9-2-2-2zM9 17H7v-7h2v7zm4 0h-2V7h2v10zm4 0h-2v-4h2v4z\"/>\n",
              "    </g>\n",
              "</svg>\n",
              "      </button>\n",
              "\n",
              "<style>\n",
              "  .colab-df-quickchart {\n",
              "      --bg-color: #E8F0FE;\n",
              "      --fill-color: #1967D2;\n",
              "      --hover-bg-color: #E2EBFA;\n",
              "      --hover-fill-color: #174EA6;\n",
              "      --disabled-fill-color: #AAA;\n",
              "      --disabled-bg-color: #DDD;\n",
              "  }\n",
              "\n",
              "  [theme=dark] .colab-df-quickchart {\n",
              "      --bg-color: #3B4455;\n",
              "      --fill-color: #D2E3FC;\n",
              "      --hover-bg-color: #434B5C;\n",
              "      --hover-fill-color: #FFFFFF;\n",
              "      --disabled-bg-color: #3B4455;\n",
              "      --disabled-fill-color: #666;\n",
              "  }\n",
              "\n",
              "  .colab-df-quickchart {\n",
              "    background-color: var(--bg-color);\n",
              "    border: none;\n",
              "    border-radius: 50%;\n",
              "    cursor: pointer;\n",
              "    display: none;\n",
              "    fill: var(--fill-color);\n",
              "    height: 32px;\n",
              "    padding: 0;\n",
              "    width: 32px;\n",
              "  }\n",
              "\n",
              "  .colab-df-quickchart:hover {\n",
              "    background-color: var(--hover-bg-color);\n",
              "    box-shadow: 0 1px 2px rgba(60, 64, 67, 0.3), 0 1px 3px 1px rgba(60, 64, 67, 0.15);\n",
              "    fill: var(--button-hover-fill-color);\n",
              "  }\n",
              "\n",
              "  .colab-df-quickchart-complete:disabled,\n",
              "  .colab-df-quickchart-complete:disabled:hover {\n",
              "    background-color: var(--disabled-bg-color);\n",
              "    fill: var(--disabled-fill-color);\n",
              "    box-shadow: none;\n",
              "  }\n",
              "\n",
              "  .colab-df-spinner {\n",
              "    border: 2px solid var(--fill-color);\n",
              "    border-color: transparent;\n",
              "    border-bottom-color: var(--fill-color);\n",
              "    animation:\n",
              "      spin 1s steps(1) infinite;\n",
              "  }\n",
              "\n",
              "  @keyframes spin {\n",
              "    0% {\n",
              "      border-color: transparent;\n",
              "      border-bottom-color: var(--fill-color);\n",
              "      border-left-color: var(--fill-color);\n",
              "    }\n",
              "    20% {\n",
              "      border-color: transparent;\n",
              "      border-left-color: var(--fill-color);\n",
              "      border-top-color: var(--fill-color);\n",
              "    }\n",
              "    30% {\n",
              "      border-color: transparent;\n",
              "      border-left-color: var(--fill-color);\n",
              "      border-top-color: var(--fill-color);\n",
              "      border-right-color: var(--fill-color);\n",
              "    }\n",
              "    40% {\n",
              "      border-color: transparent;\n",
              "      border-right-color: var(--fill-color);\n",
              "      border-top-color: var(--fill-color);\n",
              "    }\n",
              "    60% {\n",
              "      border-color: transparent;\n",
              "      border-right-color: var(--fill-color);\n",
              "    }\n",
              "    80% {\n",
              "      border-color: transparent;\n",
              "      border-right-color: var(--fill-color);\n",
              "      border-bottom-color: var(--fill-color);\n",
              "    }\n",
              "    90% {\n",
              "      border-color: transparent;\n",
              "      border-bottom-color: var(--fill-color);\n",
              "    }\n",
              "  }\n",
              "</style>\n",
              "\n",
              "      <script>\n",
              "        async function quickchart(key) {\n",
              "          const quickchartButtonEl =\n",
              "            document.querySelector('#' + key + ' button');\n",
              "          quickchartButtonEl.disabled = true;  // To prevent multiple clicks.\n",
              "          quickchartButtonEl.classList.add('colab-df-spinner');\n",
              "          try {\n",
              "            const charts = await google.colab.kernel.invokeFunction(\n",
              "                'suggestCharts', [key], {});\n",
              "          } catch (error) {\n",
              "            console.error('Error during call to suggestCharts:', error);\n",
              "          }\n",
              "          quickchartButtonEl.classList.remove('colab-df-spinner');\n",
              "          quickchartButtonEl.classList.add('colab-df-quickchart-complete');\n",
              "        }\n",
              "        (() => {\n",
              "          let quickchartButtonEl =\n",
              "            document.querySelector('#df-fe5180ce-a77d-4fc2-a2f8-4b759aec979f button');\n",
              "          quickchartButtonEl.style.display =\n",
              "            google.colab.kernel.accessAllowed ? 'block' : 'none';\n",
              "        })();\n",
              "      </script>\n",
              "    </div>\n",
              "\n",
              "    </div>\n",
              "  </div>\n"
            ],
            "application/vnd.google.colaboratory.intrinsic+json": {
              "type": "dataframe",
              "summary": "{\n  \"name\": \")\",\n  \"rows\": 3,\n  \"fields\": [\n    {\n      \"column\": \"Model\",\n      \"properties\": {\n        \"dtype\": \"string\",\n        \"num_unique_values\": 3,\n        \"samples\": [\n          \"LightGBM\",\n          \"XGBoost\",\n          \"RandomForest\"\n        ],\n        \"semantic_type\": \"\",\n        \"description\": \"\"\n      }\n    },\n    {\n      \"column\": \"Accuracy\",\n      \"properties\": {\n        \"dtype\": \"number\",\n        \"std\": 0.0074038100931176545,\n        \"min\": 0.7881940244344986,\n        \"max\": 0.8011370509253659,\n        \"num_unique_values\": 3,\n        \"samples\": [\n          0.8008951251965647,\n          0.7881940244344986,\n          0.8011370509253659\n        ],\n        \"semantic_type\": \"\",\n        \"description\": \"\"\n      }\n    },\n    {\n      \"column\": \"Precision\",\n      \"properties\": {\n        \"dtype\": \"number\",\n        \"std\": 0.0036514657986181868,\n        \"min\": 0.11363636363636363,\n        \"max\": 0.12073784237003912,\n        \"num_unique_values\": 3,\n        \"samples\": [\n          0.12073784237003912,\n          0.11363636363636363,\n          0.11571185479296653\n        ],\n        \"semantic_type\": \"\",\n        \"description\": \"\"\n      }\n    },\n    {\n      \"column\": \"Recall\",\n      \"properties\": {\n        \"dtype\": \"number\",\n        \"std\": 0.023039197641797175,\n        \"min\": 0.7058823529411765,\n        \"max\": 0.7474048442906575,\n        \"num_unique_values\": 3,\n        \"samples\": [\n          0.7474048442906575,\n          0.7439446366782007,\n          0.7058823529411765\n        ],\n        \"semantic_type\": \"\",\n        \"description\": \"\"\n      }\n    },\n    {\n      \"column\": \"F1\",\n      \"properties\": {\n        \"dtype\": \"number\",\n        \"std\": 0.005775730746203161,\n        \"min\": 0.19715726730857405,\n        \"max\": 0.2078922040423484,\n        \"num_unique_values\": 3,\n        \"samples\": [\n          0.2078922040423484,\n          0.19715726730857405,\n          0.19883040935672514\n        ],\n        \"semantic_type\": \"\",\n        \"description\": \"\"\n      }\n    },\n    {\n      \"column\": \"ROC-AUC\",\n      \"properties\": {\n        \"dtype\": \"number\",\n        \"std\": 0.01744091412543538,\n        \"min\": 0.8115672337682953,\n        \"max\": 0.8457731078805816,\n        \"num_unique_values\": 3,\n        \"samples\": [\n          0.8457731078805816,\n          0.8345883706143452,\n          0.8115672337682953\n        ],\n        \"semantic_type\": \"\",\n        \"description\": \"\"\n      }\n    },\n    {\n      \"column\": \"PR-AUC\",\n      \"properties\": {\n        \"dtype\": \"number\",\n        \"std\": 0.0430100840071501,\n        \"min\": 0.23320575367646765,\n        \"max\": 0.31417757541515234,\n        \"num_unique_values\": 3,\n        \"samples\": [\n          0.31417757541515234,\n          0.29883674442528796,\n          0.23320575367646765\n        ],\n        \"semantic_type\": \"\",\n        \"description\": \"\"\n      }\n    }\n  ]\n}"
            }
          },
          "metadata": {}
        }
      ]
    },
    {
      "cell_type": "markdown",
      "source": [
        "### CatBoost"
      ],
      "metadata": {
        "id": "9p5PcXzBwAla"
      }
    },
    {
      "cell_type": "code",
      "source": [
        "X_train_cb = pd.concat([X_train_enc, X_train_num], axis=1)\n",
        "X_test_cb  = pd.concat([X_test_enc,  X_test_num], axis=1)\n",
        "\n",
        "eval_model(\n",
        "    'CatBoost',\n",
        "    CatBoostClassifier(\n",
        "        iterations=400,\n",
        "        learning_rate=0.1,\n",
        "        depth=6,\n",
        "        auto_class_weights='Balanced',\n",
        "        verbose=False,\n",
        "        random_state=42\n",
        "    )\n",
        ")"
      ],
      "metadata": {
        "id": "DyViRe40wAla",
        "colab": {
          "base_uri": "https://localhost:8080/",
          "height": 262
        },
        "outputId": "5ac9095e-63ad-46cc-8a11-19577166438a"
      },
      "execution_count": 26,
      "outputs": [
        {
          "output_type": "display_data",
          "data": {
            "text/plain": [
              "          Model  Accuracy  Precision    Recall        F1   ROC-AUC    PR-AUC\n",
              "1      LightGBM  0.800895   0.120738  0.747405  0.207892  0.845773  0.314178\n",
              "3      CatBoost  0.786501   0.113613  0.750865  0.197362  0.841595  0.311465\n",
              "2       XGBoost  0.788194   0.113636  0.743945  0.197157  0.834588  0.298837\n",
              "0  RandomForest  0.801137   0.115712  0.705882  0.198830  0.811567  0.233206"
            ],
            "text/html": [
              "\n",
              "  <div id=\"df-a830cdfd-6283-40ae-a207-af0f8eeb9e5e\" class=\"colab-df-container\">\n",
              "    <div>\n",
              "<style scoped>\n",
              "    .dataframe tbody tr th:only-of-type {\n",
              "        vertical-align: middle;\n",
              "    }\n",
              "\n",
              "    .dataframe tbody tr th {\n",
              "        vertical-align: top;\n",
              "    }\n",
              "\n",
              "    .dataframe thead th {\n",
              "        text-align: right;\n",
              "    }\n",
              "</style>\n",
              "<table border=\"1\" class=\"dataframe\">\n",
              "  <thead>\n",
              "    <tr style=\"text-align: right;\">\n",
              "      <th></th>\n",
              "      <th>Model</th>\n",
              "      <th>Accuracy</th>\n",
              "      <th>Precision</th>\n",
              "      <th>Recall</th>\n",
              "      <th>F1</th>\n",
              "      <th>ROC-AUC</th>\n",
              "      <th>PR-AUC</th>\n",
              "    </tr>\n",
              "  </thead>\n",
              "  <tbody>\n",
              "    <tr>\n",
              "      <th>1</th>\n",
              "      <td>LightGBM</td>\n",
              "      <td>0.800895</td>\n",
              "      <td>0.120738</td>\n",
              "      <td>0.747405</td>\n",
              "      <td>0.207892</td>\n",
              "      <td>0.845773</td>\n",
              "      <td>0.314178</td>\n",
              "    </tr>\n",
              "    <tr>\n",
              "      <th>3</th>\n",
              "      <td>CatBoost</td>\n",
              "      <td>0.786501</td>\n",
              "      <td>0.113613</td>\n",
              "      <td>0.750865</td>\n",
              "      <td>0.197362</td>\n",
              "      <td>0.841595</td>\n",
              "      <td>0.311465</td>\n",
              "    </tr>\n",
              "    <tr>\n",
              "      <th>2</th>\n",
              "      <td>XGBoost</td>\n",
              "      <td>0.788194</td>\n",
              "      <td>0.113636</td>\n",
              "      <td>0.743945</td>\n",
              "      <td>0.197157</td>\n",
              "      <td>0.834588</td>\n",
              "      <td>0.298837</td>\n",
              "    </tr>\n",
              "    <tr>\n",
              "      <th>0</th>\n",
              "      <td>RandomForest</td>\n",
              "      <td>0.801137</td>\n",
              "      <td>0.115712</td>\n",
              "      <td>0.705882</td>\n",
              "      <td>0.198830</td>\n",
              "      <td>0.811567</td>\n",
              "      <td>0.233206</td>\n",
              "    </tr>\n",
              "  </tbody>\n",
              "</table>\n",
              "</div>\n",
              "    <div class=\"colab-df-buttons\">\n",
              "\n",
              "  <div class=\"colab-df-container\">\n",
              "    <button class=\"colab-df-convert\" onclick=\"convertToInteractive('df-a830cdfd-6283-40ae-a207-af0f8eeb9e5e')\"\n",
              "            title=\"Convert this dataframe to an interactive table.\"\n",
              "            style=\"display:none;\">\n",
              "\n",
              "  <svg xmlns=\"http://www.w3.org/2000/svg\" height=\"24px\" viewBox=\"0 -960 960 960\">\n",
              "    <path d=\"M120-120v-720h720v720H120Zm60-500h600v-160H180v160Zm220 220h160v-160H400v160Zm0 220h160v-160H400v160ZM180-400h160v-160H180v160Zm440 0h160v-160H620v160ZM180-180h160v-160H180v160Zm440 0h160v-160H620v160Z\"/>\n",
              "  </svg>\n",
              "    </button>\n",
              "\n",
              "  <style>\n",
              "    .colab-df-container {\n",
              "      display:flex;\n",
              "      gap: 12px;\n",
              "    }\n",
              "\n",
              "    .colab-df-convert {\n",
              "      background-color: #E8F0FE;\n",
              "      border: none;\n",
              "      border-radius: 50%;\n",
              "      cursor: pointer;\n",
              "      display: none;\n",
              "      fill: #1967D2;\n",
              "      height: 32px;\n",
              "      padding: 0 0 0 0;\n",
              "      width: 32px;\n",
              "    }\n",
              "\n",
              "    .colab-df-convert:hover {\n",
              "      background-color: #E2EBFA;\n",
              "      box-shadow: 0px 1px 2px rgba(60, 64, 67, 0.3), 0px 1px 3px 1px rgba(60, 64, 67, 0.15);\n",
              "      fill: #174EA6;\n",
              "    }\n",
              "\n",
              "    .colab-df-buttons div {\n",
              "      margin-bottom: 4px;\n",
              "    }\n",
              "\n",
              "    [theme=dark] .colab-df-convert {\n",
              "      background-color: #3B4455;\n",
              "      fill: #D2E3FC;\n",
              "    }\n",
              "\n",
              "    [theme=dark] .colab-df-convert:hover {\n",
              "      background-color: #434B5C;\n",
              "      box-shadow: 0px 1px 3px 1px rgba(0, 0, 0, 0.15);\n",
              "      filter: drop-shadow(0px 1px 2px rgba(0, 0, 0, 0.3));\n",
              "      fill: #FFFFFF;\n",
              "    }\n",
              "  </style>\n",
              "\n",
              "    <script>\n",
              "      const buttonEl =\n",
              "        document.querySelector('#df-a830cdfd-6283-40ae-a207-af0f8eeb9e5e button.colab-df-convert');\n",
              "      buttonEl.style.display =\n",
              "        google.colab.kernel.accessAllowed ? 'block' : 'none';\n",
              "\n",
              "      async function convertToInteractive(key) {\n",
              "        const element = document.querySelector('#df-a830cdfd-6283-40ae-a207-af0f8eeb9e5e');\n",
              "        const dataTable =\n",
              "          await google.colab.kernel.invokeFunction('convertToInteractive',\n",
              "                                                    [key], {});\n",
              "        if (!dataTable) return;\n",
              "\n",
              "        const docLinkHtml = 'Like what you see? Visit the ' +\n",
              "          '<a target=\"_blank\" href=https://colab.research.google.com/notebooks/data_table.ipynb>data table notebook</a>'\n",
              "          + ' to learn more about interactive tables.';\n",
              "        element.innerHTML = '';\n",
              "        dataTable['output_type'] = 'display_data';\n",
              "        await google.colab.output.renderOutput(dataTable, element);\n",
              "        const docLink = document.createElement('div');\n",
              "        docLink.innerHTML = docLinkHtml;\n",
              "        element.appendChild(docLink);\n",
              "      }\n",
              "    </script>\n",
              "  </div>\n",
              "\n",
              "\n",
              "    <div id=\"df-dba76a75-9e11-47cb-a912-c13091789e30\">\n",
              "      <button class=\"colab-df-quickchart\" onclick=\"quickchart('df-dba76a75-9e11-47cb-a912-c13091789e30')\"\n",
              "                title=\"Suggest charts\"\n",
              "                style=\"display:none;\">\n",
              "\n",
              "<svg xmlns=\"http://www.w3.org/2000/svg\" height=\"24px\"viewBox=\"0 0 24 24\"\n",
              "     width=\"24px\">\n",
              "    <g>\n",
              "        <path d=\"M19 3H5c-1.1 0-2 .9-2 2v14c0 1.1.9 2 2 2h14c1.1 0 2-.9 2-2V5c0-1.1-.9-2-2-2zM9 17H7v-7h2v7zm4 0h-2V7h2v10zm4 0h-2v-4h2v4z\"/>\n",
              "    </g>\n",
              "</svg>\n",
              "      </button>\n",
              "\n",
              "<style>\n",
              "  .colab-df-quickchart {\n",
              "      --bg-color: #E8F0FE;\n",
              "      --fill-color: #1967D2;\n",
              "      --hover-bg-color: #E2EBFA;\n",
              "      --hover-fill-color: #174EA6;\n",
              "      --disabled-fill-color: #AAA;\n",
              "      --disabled-bg-color: #DDD;\n",
              "  }\n",
              "\n",
              "  [theme=dark] .colab-df-quickchart {\n",
              "      --bg-color: #3B4455;\n",
              "      --fill-color: #D2E3FC;\n",
              "      --hover-bg-color: #434B5C;\n",
              "      --hover-fill-color: #FFFFFF;\n",
              "      --disabled-bg-color: #3B4455;\n",
              "      --disabled-fill-color: #666;\n",
              "  }\n",
              "\n",
              "  .colab-df-quickchart {\n",
              "    background-color: var(--bg-color);\n",
              "    border: none;\n",
              "    border-radius: 50%;\n",
              "    cursor: pointer;\n",
              "    display: none;\n",
              "    fill: var(--fill-color);\n",
              "    height: 32px;\n",
              "    padding: 0;\n",
              "    width: 32px;\n",
              "  }\n",
              "\n",
              "  .colab-df-quickchart:hover {\n",
              "    background-color: var(--hover-bg-color);\n",
              "    box-shadow: 0 1px 2px rgba(60, 64, 67, 0.3), 0 1px 3px 1px rgba(60, 64, 67, 0.15);\n",
              "    fill: var(--button-hover-fill-color);\n",
              "  }\n",
              "\n",
              "  .colab-df-quickchart-complete:disabled,\n",
              "  .colab-df-quickchart-complete:disabled:hover {\n",
              "    background-color: var(--disabled-bg-color);\n",
              "    fill: var(--disabled-fill-color);\n",
              "    box-shadow: none;\n",
              "  }\n",
              "\n",
              "  .colab-df-spinner {\n",
              "    border: 2px solid var(--fill-color);\n",
              "    border-color: transparent;\n",
              "    border-bottom-color: var(--fill-color);\n",
              "    animation:\n",
              "      spin 1s steps(1) infinite;\n",
              "  }\n",
              "\n",
              "  @keyframes spin {\n",
              "    0% {\n",
              "      border-color: transparent;\n",
              "      border-bottom-color: var(--fill-color);\n",
              "      border-left-color: var(--fill-color);\n",
              "    }\n",
              "    20% {\n",
              "      border-color: transparent;\n",
              "      border-left-color: var(--fill-color);\n",
              "      border-top-color: var(--fill-color);\n",
              "    }\n",
              "    30% {\n",
              "      border-color: transparent;\n",
              "      border-left-color: var(--fill-color);\n",
              "      border-top-color: var(--fill-color);\n",
              "      border-right-color: var(--fill-color);\n",
              "    }\n",
              "    40% {\n",
              "      border-color: transparent;\n",
              "      border-right-color: var(--fill-color);\n",
              "      border-top-color: var(--fill-color);\n",
              "    }\n",
              "    60% {\n",
              "      border-color: transparent;\n",
              "      border-right-color: var(--fill-color);\n",
              "    }\n",
              "    80% {\n",
              "      border-color: transparent;\n",
              "      border-right-color: var(--fill-color);\n",
              "      border-bottom-color: var(--fill-color);\n",
              "    }\n",
              "    90% {\n",
              "      border-color: transparent;\n",
              "      border-bottom-color: var(--fill-color);\n",
              "    }\n",
              "  }\n",
              "</style>\n",
              "\n",
              "      <script>\n",
              "        async function quickchart(key) {\n",
              "          const quickchartButtonEl =\n",
              "            document.querySelector('#' + key + ' button');\n",
              "          quickchartButtonEl.disabled = true;  // To prevent multiple clicks.\n",
              "          quickchartButtonEl.classList.add('colab-df-spinner');\n",
              "          try {\n",
              "            const charts = await google.colab.kernel.invokeFunction(\n",
              "                'suggestCharts', [key], {});\n",
              "          } catch (error) {\n",
              "            console.error('Error during call to suggestCharts:', error);\n",
              "          }\n",
              "          quickchartButtonEl.classList.remove('colab-df-spinner');\n",
              "          quickchartButtonEl.classList.add('colab-df-quickchart-complete');\n",
              "        }\n",
              "        (() => {\n",
              "          let quickchartButtonEl =\n",
              "            document.querySelector('#df-dba76a75-9e11-47cb-a912-c13091789e30 button');\n",
              "          quickchartButtonEl.style.display =\n",
              "            google.colab.kernel.accessAllowed ? 'block' : 'none';\n",
              "        })();\n",
              "      </script>\n",
              "    </div>\n",
              "\n",
              "    </div>\n",
              "  </div>\n"
            ],
            "application/vnd.google.colaboratory.intrinsic+json": {
              "type": "dataframe",
              "summary": "{\n  \"name\": \")\",\n  \"rows\": 4,\n  \"fields\": [\n    {\n      \"column\": \"Model\",\n      \"properties\": {\n        \"dtype\": \"string\",\n        \"num_unique_values\": 4,\n        \"samples\": [\n          \"CatBoost\",\n          \"RandomForest\",\n          \"LightGBM\"\n        ],\n        \"semantic_type\": \"\",\n        \"description\": \"\"\n      }\n    },\n    {\n      \"column\": \"Accuracy\",\n      \"properties\": {\n        \"dtype\": \"number\",\n        \"std\": 0.00792252896122149,\n        \"min\": 0.7865005443328899,\n        \"max\": 0.8011370509253659,\n        \"num_unique_values\": 4,\n        \"samples\": [\n          0.7865005443328899,\n          0.8011370509253659,\n          0.8008951251965647\n        ],\n        \"semantic_type\": \"\",\n        \"description\": \"\"\n      }\n    },\n    {\n      \"column\": \"Precision\",\n      \"properties\": {\n        \"dtype\": \"number\",\n        \"std\": 0.00335629220332595,\n        \"min\": 0.11361256544502618,\n        \"max\": 0.12073784237003912,\n        \"num_unique_values\": 4,\n        \"samples\": [\n          0.11361256544502618,\n          0.11571185479296653,\n          0.12073784237003912\n        ],\n        \"semantic_type\": \"\",\n        \"description\": \"\"\n      }\n    },\n    {\n      \"column\": \"Recall\",\n      \"properties\": {\n        \"dtype\": \"number\",\n        \"std\": 0.02095259760621098,\n        \"min\": 0.7058823529411765,\n        \"max\": 0.7508650519031141,\n        \"num_unique_values\": 4,\n        \"samples\": [\n          0.7508650519031141,\n          0.7058823529411765,\n          0.7474048442906575\n        ],\n        \"semantic_type\": \"\",\n        \"description\": \"\"\n      }\n    },\n    {\n      \"column\": \"F1\",\n      \"properties\": {\n        \"dtype\": \"number\",\n        \"std\": 0.005109039490632448,\n        \"min\": 0.19715726730857405,\n        \"max\": 0.2078922040423484,\n        \"num_unique_values\": 4,\n        \"samples\": [\n          0.197362437471578,\n          0.19883040935672514,\n          0.2078922040423484\n        ],\n        \"semantic_type\": \"\",\n        \"description\": \"\"\n      }\n    },\n    {\n      \"column\": \"ROC-AUC\",\n      \"properties\": {\n        \"dtype\": \"number\",\n        \"std\": 0.015256984459002813,\n        \"min\": 0.8115672337682953,\n        \"max\": 0.8457731078805816,\n        \"num_unique_values\": 4,\n        \"samples\": [\n          0.841594662137487,\n          0.8115672337682953,\n          0.8457731078805816\n        ],\n        \"semantic_type\": \"\",\n        \"description\": \"\"\n      }\n    },\n    {\n      \"column\": \"PR-AUC\",\n      \"properties\": {\n        \"dtype\": \"number\",\n        \"std\": 0.0380685807605668,\n        \"min\": 0.23320575367646765,\n        \"max\": 0.31417757541515234,\n        \"num_unique_values\": 4,\n        \"samples\": [\n          0.3114653266006832,\n          0.23320575367646765,\n          0.31417757541515234\n        ],\n        \"semantic_type\": \"\",\n        \"description\": \"\"\n      }\n    }\n  ]\n}"
            }
          },
          "metadata": {}
        }
      ]
    },
    {
      "cell_type": "markdown",
      "source": [
        "## Model Comparison"
      ],
      "metadata": {
        "id": "BfInvG07wTt_"
      }
    },
    {
      "cell_type": "markdown",
      "source": [
        "From the validation results across all four models the following was found:\n",
        "\n",
        "*   LightGBM edges out the pack with a perfect ROC-AUC of 0.773, PR-AUC of 0.271, and an F1-score of 0.150.\n",
        "*   CatBoost follows closely (ROC-\n",
        "AUC = 0.763, PR-AUC = 0.265, F1 = 0.147).\n",
        "*  XGBoost follows (ROC-AUC = 0.743, PR-AUC= 0.248, F1 ≈ 0.142).\n",
        "*   Random Forest falls last (ROC-AUC = 0.730, PR-AUC = 0.175, F1 = 0.139).\n",
        "\n",
        "\n",
        "Even without attendance, the models outperform random guessing (ROC-AUC > 0.50). LightGBM is the best performer on the attendance-free data, so it will be used for further tuning and threshold optimization.\n",
        "\n",
        "\n",
        "\n",
        "\n"
      ],
      "metadata": {
        "id": "Lr8PgJ4owTuI"
      }
    },
    {
      "cell_type": "markdown",
      "source": [
        "## Hyperparameter tuning for LightGBM"
      ],
      "metadata": {
        "id": "mVGwLOkQ2cb7"
      }
    },
    {
      "cell_type": "markdown",
      "source": [
        "As LightGBM has been identified as the best model out of those investigated, in this section it is tuned and evaluated."
      ],
      "metadata": {
        "id": "bMh9O7tN2qYZ"
      }
    },
    {
      "cell_type": "markdown",
      "source": [
        "Here, `RandomSearchCV` is used over CatBoosts's hyperameters with the aim to optimise the CatBoost classifiers ROC-AUC."
      ],
      "metadata": {
        "id": "gYOPLZop68su"
      }
    },
    {
      "cell_type": "code",
      "source": [
        "# Base estimator\n",
        "lgb = LGBMClassifier(\n",
        "    is_unbalance=True,\n",
        "    random_state=42,\n",
        "    verbose=-1,\n",
        "    n_jobs=-1\n",
        ")\n",
        "\n",
        "\n",
        "# Parameter distributions\n",
        "param_dist = {\n",
        "    'iterations': [200, 400, 600, 800],\n",
        "    'learning_rate': [0.01, 0.03, 0.05, 0.1],\n",
        "    'depth': [4, 6, 8, 10],\n",
        "    'l2_leaf_reg': [1, 3, 5, 7],\n",
        "    'border_count': [32, 64, 128]\n",
        "}\n",
        "\n",
        "search_lgb = RandomizedSearchCV(\n",
        "    estimator=lgb,\n",
        "    param_distributions=param_dist,\n",
        "    n_iter=20,\n",
        "    scoring='roc_auc',\n",
        "    cv=3,\n",
        "    random_state=42,\n",
        "    n_jobs=-1,\n",
        "    return_train_score=False\n",
        ")\n"
      ],
      "metadata": {
        "id": "JSzW6pnd272v"
      },
      "execution_count": 27,
      "outputs": []
    },
    {
      "cell_type": "markdown",
      "source": [
        "### Inspect best parameters"
      ],
      "metadata": {
        "id": "nHhRgfoc46sy"
      }
    },
    {
      "cell_type": "markdown",
      "source": [
        "Here, the randomized search is fitted on the training data to find the best cross-validation score to the relevant hyperparameter values."
      ],
      "metadata": {
        "id": "A0ebonMQ7XRG"
      }
    },
    {
      "cell_type": "code",
      "source": [
        "search_lgb.fit(X_train_pre, y_train)\n",
        "\n",
        "print(\"Best CV ROC-AUC:\", search_lgb.best_score_)\n",
        "print(\"Best parameters:\")\n",
        "for k, v in search_lgb.best_params_.items():\n",
        "    print(f\" • {k}: {v}\")\n",
        "\n",
        "best_lgb = search_lgb.best_estimator_\n"
      ],
      "metadata": {
        "id": "MHBTXDoc45_K",
        "colab": {
          "base_uri": "https://localhost:8080/"
        },
        "outputId": "de53971d-98fb-49f7-88a9-bcde03ca806c"
      },
      "execution_count": 28,
      "outputs": [
        {
          "output_type": "stream",
          "name": "stderr",
          "text": [
            "/usr/local/lib/python3.11/dist-packages/sklearn/utils/deprecation.py:151: FutureWarning: 'force_all_finite' was renamed to 'ensure_all_finite' in 1.6 and will be removed in 1.8.\n",
            "  warnings.warn(\n"
          ]
        },
        {
          "output_type": "stream",
          "name": "stdout",
          "text": [
            "Best CV ROC-AUC: 0.8472623239314293\n",
            "Best parameters:\n",
            " • learning_rate: 0.01\n",
            " • l2_leaf_reg: 7\n",
            " • iterations: 400\n",
            " • depth: 8\n",
            " • border_count: 128\n"
          ]
        }
      ]
    },
    {
      "cell_type": "markdown",
      "source": [
        "### Retrain Model and Evaluate"
      ],
      "metadata": {
        "id": "j8Gzfc3y5RpB"
      }
    },
    {
      "cell_type": "code",
      "source": [
        "# Retrain on full training set\n",
        "best_lgb.fit(X_train_pre, y_train)\n",
        "\n",
        "# Predict on hold-out test\n",
        "y_pred  = best_lgb.predict(X_test_pre)\n",
        "y_proba = best_lgb.predict_proba(X_test_pre)[:,1]\n",
        "\n",
        "# Standard metrics\n",
        "print(classification_report(y_test, y_pred, target_names=['No CIN','CIN']))\n",
        "print(\"Accuracy:\", accuracy_score(y_test, y_pred))\n",
        "print(\"Precision:\", precision_score(y_test, y_pred))\n",
        "print(\"Recall:\", recall_score(y_test, y_pred))\n",
        "print(\"F1 Score:\", f1_score(y_test, y_pred))\n",
        "print(\"ROC-AUC:\", roc_auc_score(y_test, y_proba))\n",
        "\n",
        "# PR-AUC\n",
        "prec, rec, _ = precision_recall_curve(y_test, y_proba)\n",
        "print(\"PR-AUC:\", auc(rec, prec))\n",
        "\n",
        "# Confusion matrix\n",
        "print(\"Confusion Matrix:\\n\", confusion_matrix(y_test, y_pred))"
      ],
      "metadata": {
        "id": "cR4OFuOq5UQL",
        "colab": {
          "base_uri": "https://localhost:8080/"
        },
        "outputId": "c84caccf-d471-46f9-b614-dbe13030f578"
      },
      "execution_count": 29,
      "outputs": [
        {
          "output_type": "stream",
          "name": "stderr",
          "text": [
            "/usr/local/lib/python3.11/dist-packages/sklearn/utils/deprecation.py:151: FutureWarning: 'force_all_finite' was renamed to 'ensure_all_finite' in 1.6 and will be removed in 1.8.\n",
            "  warnings.warn(\n"
          ]
        },
        {
          "output_type": "stream",
          "name": "stdout",
          "text": [
            "              precision    recall  f1-score   support\n",
            "\n",
            "      No CIN       0.98      0.95      0.97      7978\n",
            "         CIN       0.28      0.53      0.37       289\n",
            "\n",
            "    accuracy                           0.94      8267\n",
            "   macro avg       0.63      0.74      0.67      8267\n",
            "weighted avg       0.96      0.94      0.95      8267\n",
            "\n",
            "Accuracy: 0.937099310511673\n",
            "Precision: 0.2849162011173184\n",
            "Recall: 0.5294117647058824\n",
            "F1 Score: 0.3704600484261501\n",
            "ROC-AUC: 0.8713820272184494\n",
            "PR-AUC: 0.3308790875334366\n",
            "Confusion Matrix:\n",
            " [[7594  384]\n",
            " [ 136  153]]\n"
          ]
        },
        {
          "output_type": "stream",
          "name": "stderr",
          "text": [
            "/usr/local/lib/python3.11/dist-packages/sklearn/utils/deprecation.py:151: FutureWarning: 'force_all_finite' was renamed to 'ensure_all_finite' in 1.6 and will be removed in 1.8.\n",
            "  warnings.warn(\n",
            "/usr/local/lib/python3.11/dist-packages/sklearn/utils/deprecation.py:151: FutureWarning: 'force_all_finite' was renamed to 'ensure_all_finite' in 1.6 and will be removed in 1.8.\n",
            "  warnings.warn(\n"
          ]
        }
      ]
    },
    {
      "cell_type": "code",
      "source": [
        "# Base estimator\n",
        "cbc = CatBoostClassifier(\n",
        "    auto_class_weights='Balanced',\n",
        "    verbose=False,\n",
        "    random_state=42\n",
        ")\n",
        "\n",
        "\n",
        "# Parameter distributions\n",
        "param_dist = {\n",
        "    'iterations': [200, 400, 600, 800],\n",
        "    'learning_rate': [0.01, 0.03, 0.05, 0.1],\n",
        "    'depth': [4, 6, 8, 10],\n",
        "    'l2_leaf_reg': [1, 3, 5, 7],\n",
        "    'border_count': [32, 64, 128]\n",
        "}\n",
        "\n",
        "search_cbc = RandomizedSearchCV(\n",
        "    estimator=cbc,\n",
        "    param_distributions=param_dist,\n",
        "    n_iter=20,\n",
        "    scoring='roc_auc',\n",
        "    cv=3,\n",
        "    random_state=42,\n",
        "    n_jobs=-1,\n",
        "    return_train_score=False\n",
        ")\n"
      ],
      "metadata": {
        "id": "Yr1_sSQj43bj"
      },
      "execution_count": 30,
      "outputs": []
    },
    {
      "cell_type": "markdown",
      "source": [
        "### Optimal Threshold for Best Model"
      ],
      "metadata": {
        "id": "ljVqVVBq5YTp"
      }
    },
    {
      "cell_type": "code",
      "source": [
        "precisions, recalls, thresholds = precision_recall_curve(y_test, y_proba)\n",
        "f1_scores = 2 * (precisions * recalls) / (precisions + recalls + 1e-12)\n",
        "best_idx   = np.argmax(f1_scores)\n",
        "best_thresh = thresholds[best_idx]\n",
        "best_f1     = f1_scores[best_idx]\n",
        "\n",
        "print(f\"Optimal threshold: {best_thresh:.3f} → F1 = {best_f1:.3f}\")\n",
        "\n",
        "# Compare default vs optimized\n",
        "for name, preds in [('Default (0.5)', y_proba>=0.5), ('Optimized', y_proba>=best_thresh)]:\n",
        "    print(f\"\\n{name}:\")\n",
        "    print(classification_report(y_test, preds.astype(int), target_names=['No CIN','CIN']))\n",
        "\n",
        "# Plot PR curve\n",
        "plt.plot(recalls, precisions, label='PR Curve')\n",
        "plt.scatter(recalls[best_idx], precisions[best_idx], label=f'Best F1@{best_thresh:.2f}')\n",
        "plt.xlabel('Recall'); plt.ylabel('Precision'); plt.legend(); plt.show()"
      ],
      "metadata": {
        "id": "RoifGRcj5dxB",
        "colab": {
          "base_uri": "https://localhost:8080/",
          "height": 566
        },
        "outputId": "e1f82a61-bbcf-40ed-994b-4e95daa778dc"
      },
      "execution_count": 31,
      "outputs": [
        {
          "output_type": "stream",
          "name": "stdout",
          "text": [
            "Optimal threshold: 0.569 → F1 = 0.423\n",
            "\n",
            "Default (0.5):\n",
            "              precision    recall  f1-score   support\n",
            "\n",
            "      No CIN       0.98      0.95      0.97      7978\n",
            "         CIN       0.28      0.53      0.37       289\n",
            "\n",
            "    accuracy                           0.94      8267\n",
            "   macro avg       0.63      0.74      0.67      8267\n",
            "weighted avg       0.96      0.94      0.95      8267\n",
            "\n",
            "\n",
            "Optimized:\n",
            "              precision    recall  f1-score   support\n",
            "\n",
            "      No CIN       0.98      0.98      0.98      7978\n",
            "         CIN       0.43      0.42      0.42       289\n",
            "\n",
            "    accuracy                           0.96      8267\n",
            "   macro avg       0.70      0.70      0.70      8267\n",
            "weighted avg       0.96      0.96      0.96      8267\n",
            "\n"
          ]
        },
        {
          "output_type": "display_data",
          "data": {
            "text/plain": [
              "<Figure size 640x480 with 1 Axes>"
            ],
            "image/png": "[encoded data removed]"
          },
          "metadata": {}
        }
      ]
    },
    {
      "cell_type": "markdown",
      "source": [
        "The optimal threshold for this model and data was found to be at 0.58. Non-CIN classfication remained strong. From the default model, the CIN precision increased from 0.25 to 0.39, showing this tuned model is much better at identifying CIN cases."
      ],
      "metadata": {
        "id": "Bjh6loOzSQ1k"
      }
    },
    {
      "cell_type": "markdown",
      "source": [
        "## Feature importance"
      ],
      "metadata": {
        "id": "1Q7Bn4i_FVbl"
      }
    },
    {
      "cell_type": "code",
      "source": [
        "# Reconstruct attrubute list\n",
        "feature_names = list(ohe.get_feature_names_out(cat_cols))\n",
        "\n",
        "# Refit evaluated model\n",
        "lgb_full = LGBMClassifier(\n",
        "    n_estimators=300,\n",
        "    is_unbalance=True,\n",
        "    random_state=42,\n",
        "    verbose=-1,\n",
        "    log_level='error'\n",
        ")\n",
        "lgb_full.fit(X_train_pre, y_train)\n",
        "\n",
        "# Sort importance\n",
        "importances = pd.Series(lgb_full.feature_importances_, index=feature_names)\n",
        "top10 = importances.sort_values(ascending=False).head(10)\n",
        "\n",
        "print(\"Top 10 features by importance (without Attendance):\")\n",
        "print(top10)\n",
        "\n",
        "# Plot\n",
        "plt.figure(figsize=(6,4))\n",
        "top10.sort_values().plot(kind='barh')\n",
        "plt.title(\"LightGBM Feature Importances (Without Attendance)\")\n",
        "plt.xlabel(\"Importance\")\n",
        "plt.tight_layout()\n",
        "plt.show()\n"
      ],
      "metadata": {
        "colab": {
          "base_uri": "https://localhost:8080/",
          "height": 368
        },
        "outputId": "94ecc9e9-f933-493a-ba2c-54089a41c510",
        "id": "P7P7jSAxFVbn"
      },
      "execution_count": 32,
      "outputs": [
        {
          "output_type": "stream",
          "name": "stderr",
          "text": [
            "/usr/local/lib/python3.11/dist-packages/sklearn/utils/deprecation.py:151: FutureWarning: 'force_all_finite' was renamed to 'ensure_all_finite' in 1.6 and will be removed in 1.8.\n",
            "  warnings.warn(\n"
          ]
        },
        {
          "output_type": "stream",
          "name": "stdout",
          "text": [
            "Top 10 features by importance (without Attendance):\n",
            "Gender_Female                                   983\n",
            "FSM_FSM_Eligible                                870\n",
            "SEN_No SEN                                      630\n",
            "Year_Year 8                                     575\n",
            "Year_Year 7                                     565\n",
            "Year_Year 9                                     444\n",
            "Ethnicity_White - White British                 436\n",
            "Year_Year 10                                    433\n",
            "Year_Year 11                                    413\n",
            "Ethnicity_White - Any other White background    320\n",
            "dtype: int32\n"
          ]
        },
        {
          "output_type": "display_data",
          "data": {
            "text/plain": [
              "<Figure size 600x400 with 1 Axes>"
            ],
            "image/png": "[encoded data removed]"
          },
          "metadata": {}
        }
      ]
    },
    {
      "cell_type": "markdown",
      "source": [
        "### Feature Importance Comments"
      ],
      "metadata": {
        "id": "hd7q_DdjFVbo"
      }
    },
    {
      "cell_type": "markdown",
      "source": [
        "Without attendance the reliance of attributes shifts to a broader mix of the remaining attributes.\n",
        "\n",
        "Overall, this balanced profile indicated the model is learning from multiple student characteristics not just one single proxy."
      ],
      "metadata": {
        "id": "RbdqX-xRYlYF"
      }
    }
  ]
}